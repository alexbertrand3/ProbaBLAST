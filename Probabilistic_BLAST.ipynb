{
  "nbformat": 4,
  "nbformat_minor": 0,
  "metadata": {
    "colab": {
      "name": "Probabilistic BLAST.ipynb",
      "provenance": [],
      "collapsed_sections": [
        "NUWdNxVwDXnY",
        "gpWVVr8RmNUP",
        "xDDb8z5j18T2"
      ]
    },
    "kernelspec": {
      "name": "python3",
      "display_name": "Python 3"
    },
    "language_info": {
      "name": "python"
    }
  },
  "cells": [
    {
      "cell_type": "markdown",
      "metadata": {
        "id": "zsDl5tPFGC4g"
      },
      "source": [
        "# Environment Setup and Loading Required Data"
      ]
    },
    {
      "cell_type": "code",
      "metadata": {
        "colab": {
          "base_uri": "https://localhost:8080/"
        },
        "id": "gJuNnAtQl-Ch",
        "outputId": "6c8aa293-4f6b-4f9b-c75d-bed3bfc9e7cd"
      },
      "source": [
        "# To run this code, you should have the data (genome sequence and confidences) in the same folder as this file.\n",
        "\n",
        "from google.colab import drive\n",
        "drive.mount('/content/drive')\n",
        "\n",
        "# Update this if using a different file structure\n",
        "%cd '/content/drive/MyDrive/ProbaBLAST'\n",
        "\n",
        "import json\n",
        "import math\n",
        "import random\n",
        "import time\n",
        "import matplotlib.pyplot as plt\n",
        "import pandas as pd\n",
        "import numpy as np"
      ],
      "execution_count": 7,
      "outputs": [
        {
          "output_type": "stream",
          "name": "stdout",
          "text": [
            "Drive already mounted at /content/drive; to attempt to forcibly remount, call drive.mount(\"/content/drive\", force_remount=True).\n",
            "/content/drive/MyDrive/ProbaBLAST\n"
          ]
        }
      ]
    },
    {
      "cell_type": "code",
      "metadata": {
        "id": "TbMuiF_vqKuL"
      },
      "source": [
        "# load the library sequence and confidence values\n",
        "# Data is a portion (~600 kilobases) of the predicted chromosome 22 of an ancestral Boreoeutherian (a sub-type of placental mammals)\n",
        "\n",
        "with open('sequence.txt') as f1:\n",
        "    library_seq = f1.readline().upper()\n",
        "\n",
        "with open('confidence.txt') as f2:\n",
        "    conf = f2.readline().split()\n",
        "    conf = np.asarray([float(x) for x in conf])\n",
        "    conf_comp = (1 - conf)/3      # (comp --> complement). The probability for each of the non-predicted nucleotides. Assumes equal probabilities for each."
      ],
      "execution_count": 9,
      "outputs": []
    },
    {
      "cell_type": "markdown",
      "metadata": {
        "id": "NUWdNxVwDXnY"
      },
      "source": [
        "# Helper Functions"
      ]
    },
    {
      "cell_type": "code",
      "metadata": {
        "id": "b0nTyq2-SOny"
      },
      "source": [
        "# randomly mutates the given nucleotide (nuc) into another nucleotide (all with equal probability)\n",
        "# used when testing the algorithm\n",
        "\n",
        "def mutate(nuc, conf_level, added_mut_chance=0, rng=None):\n",
        "    if rng is None:\n",
        "        rng = np.random.RandomState()\n",
        "    nucleotides = ['A', 'C', 'G', 'T']\n",
        "    nucleotides.remove(nuc)\n",
        "    if rng.rand() + added_mut_chance > conf_level:\n",
        "        return nucleotides[rng.randint(len(nucleotides))]\n",
        "    else:\n",
        "        return nuc"
      ],
      "execution_count": 10,
      "outputs": []
    },
    {
      "cell_type": "code",
      "metadata": {
        "id": "mJodTD0o2Neu"
      },
      "source": [
        "def add_to_word_list(lib, word, entry):\n",
        "    if word in lib:\n",
        "        lib[word].append(entry)\n",
        "    else:\n",
        "        lib[word] = [entry]"
      ],
      "execution_count": 11,
      "outputs": []
    },
    {
      "cell_type": "code",
      "metadata": {
        "id": "4khb6RIlDW7-"
      },
      "source": [
        "# Finds interesting stats about the probabilites in the dataset for a given word size\n",
        "# returns (mean, std_dev, min, max, %of_words_below_p) of the probabilities of words\n",
        "\n",
        "def word_stats(sequence, confidence, w, p=0.70):\n",
        "    min_prob = 1\n",
        "    max_prob = 0\n",
        "    num_below_p = 0\n",
        "    all_probs = []\n",
        "    for i in range(0, len(sequence) - w + 1):\n",
        "        new_prob = np.prod(confidence[i: i + w])\n",
        "        if new_prob < min_prob:\n",
        "            min_prob = new_prob\n",
        "        if new_prob > max_prob:\n",
        "            max_prob = new_prob\n",
        "        if new_prob < p:\n",
        "            num_below_p += 1\n",
        "        all_probs.append(new_prob)\n",
        "    mean = np.average(all_probs)\n",
        "    stddev = np.std(all_probs)\n",
        "    percent_below_p = num_below_p/len(all_probs)\n",
        "    return mean, stddev, min_prob, max_prob, percent_below_p\n",
        "\n",
        "# print(word_stats(library_seq, conf, 7, p=0.7))"
      ],
      "execution_count": 12,
      "outputs": []
    },
    {
      "cell_type": "code",
      "source": [
        "def print_alignment(seq1, seq2, header=None, line_len=80):\n",
        "    if header is not None:\n",
        "        print('Alingment of query segment', header[1], 'and library segment', header[2], 'with score =', '{:.3f}'.format(header[0]))\n",
        "    for chunk in range(0, math.ceil(len(seq1) / line_len)):\n",
        "        chunk_start = chunk * line_len\n",
        "        chunk_end = min(len(seq1), (chunk + 1) * line_len)\n",
        "        print('query:\\t\\t', seq1[chunk_start:chunk_end], chunk_end)\n",
        "        match_string = ''\n",
        "        for i in range(chunk_start, chunk_end):\n",
        "            if seq1[i] == seq2[i]:\n",
        "                match_string = match_string + '|'\n",
        "            else:\n",
        "                match_string = match_string + ' '\n",
        "        print('\\t\\t', match_string)\n",
        "        print('library:\\t', seq2[chunk_start:chunk_end], chunk_end)\n",
        "        print()\n",
        "    print()\n",
        "    "
      ],
      "metadata": {
        "id": "JbEm2CigPxoN"
      },
      "execution_count": 13,
      "outputs": []
    },
    {
      "cell_type": "code",
      "source": [
        "# I use \"coverage\" to determine the quality of an alignment\n",
        "# It measures what proportion of the true range (i.e., the one used to generate the query) overlaps with the one found by probaBLAST.\n",
        "def coverage(true_range, algn_range):\n",
        "    true_start, true_stop = true_range\n",
        "    algn_start, algn_stop = algn_range\n",
        "    prefix_error = abs(true_start - algn_start)\n",
        "    suffix_error = abs(true_stop - algn_stop)\n",
        "    overlap = max(0, (min(true_stop, algn_stop) - max(true_start, algn_start)))\n",
        "    cov = overlap/(prefix_error + suffix_error + overlap)\n",
        "    return cov\n"
      ],
      "metadata": {
        "id": "B6o4kPumlQiN"
      },
      "execution_count": 14,
      "outputs": []
    },
    {
      "cell_type": "markdown",
      "metadata": {
        "id": "gpWVVr8RmNUP"
      },
      "source": [
        "# Build the Sequence Library\n",
        "\n",
        "Outputs a JSON library of all the words from the library sequence with length \"w\" and a probability above \"p\""
      ]
    },
    {
      "cell_type": "markdown",
      "metadata": {
        "id": "hu6YukA3vs22"
      },
      "source": [
        "Some potentially useful stats:\n",
        "*   Sequence Length: 604466 base-pairs\n",
        "*   Average confidence: 0.927\n",
        "*   Conf standard deviation: 0.1346\n",
        "*   Minimum confidence: 0.39\n"
      ]
    },
    {
      "cell_type": "code",
      "metadata": {
        "id": "iiENYmWqqCNY"
      },
      "source": [
        "def build_library(sequence, confidence, w, p=0.8):\n",
        "    lib = {}\n",
        "    for i in range(0, len(sequence) - w + 1):\n",
        "        word = sequence[i : i+w]\n",
        "        conf = np.prod(\n",
        "            confidence[i : i+w]\n",
        "        )\n",
        "        if conf > p:\n",
        "            add_to_word_list(lib, word, i)\n",
        "    return lib"
      ],
      "execution_count": 19,
      "outputs": []
    },
    {
      "cell_type": "code",
      "metadata": {
        "id": "FITzQzG73E1_"
      },
      "source": [
        "def save_library(lib, file_path, indent=0):\n",
        "    with open(file_path, 'w') as f:\n",
        "        json.dump(lib, f, indent=indent)"
      ],
      "execution_count": 20,
      "outputs": []
    },
    {
      "cell_type": "code",
      "metadata": {
        "id": "8PFrwPndmd72"
      },
      "source": [
        "def load_library(file_path):\n",
        "    with open(file_path) as f:\n",
        "        return json.load(f)"
      ],
      "execution_count": 21,
      "outputs": []
    },
    {
      "cell_type": "code",
      "metadata": {
        "id": "49ixWPjA3ep4"
      },
      "source": [
        "'''Run this if you don't already have a library saved as a file!'''\n",
        "\n",
        "lib = build_library(library_seq, conf, 7)\n",
        "save_library(lib, 'test_lib_w7.json', indent=4)"
      ],
      "execution_count": 22,
      "outputs": []
    },
    {
      "cell_type": "markdown",
      "metadata": {
        "id": "5wx9gXBmnRe7"
      },
      "source": [
        "# ProbaBLAST Algorithm"
      ]
    },
    {
      "cell_type": "code",
      "metadata": {
        "id": "c08vQD1PYpjA"
      },
      "source": [
        "# coefficient for matches\n",
        "# conf[i] - (1 - conf[i])/3\n",
        "# = (4/3)conf[i] - (1/3)\n",
        "# Equals 1 at conf[i] = 1, 0 at conf[i] = 0.25 (i.e., confidence is no better than random)\n",
        "# Can also raise the above to a power to change the shape of the curve without affecting its important properties\n",
        "\n",
        "# Alternative coefficient (inspired by entropy)\n",
        "# 1 - log4 (conf[i])"
      ],
      "execution_count": 23,
      "outputs": []
    },
    {
      "cell_type": "code",
      "metadata": {
        "id": "xw-eT5njnjQL"
      },
      "source": [
        "def score_coeff(conf):\n",
        "    return ((4/3) * conf)-(1/3)\n",
        "\n",
        "\n",
        "def score_word(query, lib_seq, conf):\n",
        "    out = 0\n",
        "    for i in range(0, len(query)):\n",
        "        out += score_coeff(conf[i]) * score(query[i], lib_seq[i])\n",
        "    return out\n",
        "\n",
        "\n",
        "# scores a nucleotide pair\n",
        "def score(n1, n2, match=1, mismatch=-2):\n",
        "    if n1 != n2:\n",
        "        return mismatch\n",
        "    else:\n",
        "        return match\n",
        "\n",
        "\n",
        "# Searches the library/database to find indices of all the words in the query sequence.\n",
        "# filters out library matches that are overlapping to save computation time\n",
        "def search_lib(query, lib, w):\n",
        "    matches = []\n",
        "    for i in range(0, len(query) - w + 1):\n",
        "        word = query[i:i+w]\n",
        "        if word in lib:\n",
        "            matches.append((i, lib[word]))      # a tuple of (index of word in query, [indices of word in database])\n",
        "    return matches\n",
        "\n",
        "\n",
        "def ungapped_extension(query, lib_seq, conf, lib_i, q_i, step, D=10):\n",
        "    best_i = (q_i - step, lib_i - step)   # the indices of the max score in the query and library sequence\n",
        "    cur_score = 0\n",
        "    max_score = 0\n",
        "    while (\n",
        "        (0 <= q_i < len(query)) and             # ensure indices are in bounds\n",
        "        (0 <= lib_i < len(lib_seq)) and         # ensure indices are in bounds\n",
        "        (max_score - cur_score < D)             # stop extension if score drops too far below the maximum\n",
        "        ):\n",
        "            cur_score += score_coeff(conf[lib_i]) * score(lib_seq[lib_i], query[q_i])\n",
        "            if cur_score > max_score:\n",
        "                max_score = cur_score\n",
        "                best_i = (q_i, lib_i)\n",
        "            q_i += step\n",
        "            lib_i += step\n",
        "    return max_score, best_i\n",
        "        \n",
        "\n",
        "# A version of the Needleman-Wunsch algorithm that accounts for confidence, for gapped extension\n",
        "def needleman_wunsch(S, T, T_conf, gap=-2):\n",
        "    S = '-' + S\n",
        "    T = '-' + T\n",
        "    T_conf = np.concatenate(([0], T_conf))\n",
        "\n",
        "    best_index = (0, 0)\n",
        "    best_score = 0\n",
        "    \n",
        "    # Initialization: M is scoring matrix, trace is trace-back matrix\n",
        "    M = np.full((len(S), len(T)), -float('inf'))\n",
        "    trace = np.empty((len(S), len(T)), dtype=object)\n",
        "    for i in range(0, len(S)):\n",
        "        M[i, 0] = i * gap\n",
        "        trace[i, 0] = (i-1, 0)\n",
        "    for j in range(0, len(T)):\n",
        "        M[0, j] = j * gap\n",
        "        trace[0, j] = (0, j-1)\n",
        "    \n",
        "    # Performing NW algorithm\n",
        "    for i in range(1, len(S)):\n",
        "        for j in range(1, len(T)):\n",
        "            score_match = M[i-1, j-1] + (score_coeff(T_conf[j]) * score(S[i], T[j]))\n",
        "            score_T_gap = M[i-1, j] + gap\n",
        "            score_S_gap = M[i, j-1] + gap\n",
        "            max_score = max(score_match, score_T_gap, score_S_gap)\n",
        "            M[i, j] = max_score\n",
        "            if max_score >= best_score:\n",
        "                best_score = max_score\n",
        "                best_index = (i, j)\n",
        "\n",
        "            if score_match == max_score:\n",
        "                trace[i, j] = (i-1, j-1)\n",
        "            elif score_T_gap == max_score:\n",
        "                trace[i, j] = (i-1, j)\n",
        "            elif score_S_gap == max_score:\n",
        "                trace[i, j] = (i, j-1)\n",
        "\n",
        "    # Trace back and return the aligned sequence\n",
        "    i, j = best_index\n",
        "    S_str = ''\n",
        "    T_str = ''\n",
        "    while i > 0 or j > 0:\n",
        "        from_i, from_j = trace[i, j]\n",
        "        if i - from_i == 1:\n",
        "            if j - from_j == 1:\n",
        "                S_str = S[i] + S_str\n",
        "                T_str = T[j] + T_str\n",
        "            else:\n",
        "                T_str = '-' + T_str\n",
        "                S_str = S[i] + S_str\n",
        "        else:\n",
        "            S_str = '-' + S_str\n",
        "            T_str = T[j] + T_str\n",
        "        i, j = trace[i, j]\n",
        "    return best_score, (S_str, T_str)"
      ],
      "execution_count": 24,
      "outputs": []
    },
    {
      "cell_type": "code",
      "metadata": {
        "id": "LJBfFOiSnUjl"
      },
      "source": [
        "def ProbaBLAST(query, lib_seq, lib, conf, w=7, get_top=5, fit_threshold=0.25, gap=-2, verbose=False):\n",
        "    start_time = time.time()\n",
        "    query = query.upper()\n",
        "    matches = search_lib(query, lib, w)\n",
        "    \n",
        "    lib_time = time.time()\n",
        "    if verbose:\n",
        "        print('Searching database completed in ', lib_time - start_time, 'seconds')\n",
        "    \n",
        "    all_scores = []\n",
        "    for q_i, indices in matches:\n",
        "        for lib_i in indices:\n",
        "            score_init = score_word(query[q_i:q_i + w], lib_seq[lib_i:lib_i + w], conf[lib_i:lib_i + w])\n",
        "            \n",
        "            score_L, l_i = ungapped_extension(query, lib_seq, conf, lib_i - 1, q_i - 1, -1)     # Search left of the word\n",
        "            score_R, r_i = ungapped_extension(query, lib_seq, conf, lib_i + w, q_i + w, 1)      # Search right of the word\n",
        "            score_tot = (score_init + score_R + score_L)\n",
        "            query_indices = (l_i[0], r_i[0])\n",
        "            library_indices = (l_i[1], r_i[1])\n",
        "            all_scores.append((score_tot, query_indices, library_indices))\n",
        "    ug_time = time.time()\n",
        "    if verbose:\n",
        "        print('Ungapped extension completed in ', ug_time - lib_time, 'seconds')\n",
        "    \n",
        "    all_scores = sorted(all_scores, key=lambda x: (x[1][0], x[2][0]))                           # sort by the indices used, so repeated entries (generated from nearby words) can be removed\n",
        "    \n",
        "    # remove repeated entries to save computation\n",
        "    temp = [all_scores[0]]\n",
        "    i = 1\n",
        "    while i < len(all_scores):\n",
        "        if (all_scores[i][1] != temp[-1][1] or all_scores[i][2] != temp[-1][2]):\n",
        "            temp.append(all_scores[i])\n",
        "        i += 1\n",
        "    \n",
        "    all_scores = sorted(temp, key=lambda x: x[0], reverse=True)                                 # sort by scores descending, so we only need to look at the best ones\n",
        "\n",
        "    threshold = 15                              # Arbitary threshold that an HSP must be above to consider for gapped extension\n",
        "    outputs = []\n",
        "    for entry in all_scores:\n",
        "        if entry[0] >= threshold:\n",
        "            \n",
        "            hsp_start, hsp_stop = entry[1]      # start and end indices of the HSP in the query\n",
        "            lib_start, lib_stop = entry[2]      # start and end indices of the HSP in the library\n",
        "\n",
        "            # if the current segment is enclosed by one on which needleman-wunsch was performed, skip it to save computation\n",
        "            # This can result in some alignments being *slightly* suboptimal\n",
        "            # (from my testing it did not significantly change the indices aligned, just occasionally changed which residues were matched/where gaps were inserted)\n",
        "            enclosed_hsp = False\n",
        "            for previous_nw in outputs:\n",
        "                if previous_nw[1][0] <= hsp_start and hsp_stop <= previous_nw[1][1]:\n",
        "                    enclosed_hsp = True\n",
        "            if enclosed_hsp:\n",
        "                continue\n",
        "\n",
        "            # prefix of query must be reversed to work l with needleman wunsch implementation\n",
        "            query_prefix = query[0:hsp_start][::-1]\n",
        "            \n",
        "            # searches for up to (1.5x + 5) times the length of the query segment to ensure the best match is found. This is arbitrary and may be somewhat computationally wasteful, and could surely be improved.\n",
        "            # the 5 is needed for cases where the segment being searched is very short\n",
        "            lib_prefix = lib_seq[ max(0, lib_start - int(1.5*len(query_prefix)) - 5): lib_start][::-1]\n",
        "            conf_prefix = conf[ max(0, lib_start - int(1.5*len(query_prefix)) - 5): lib_start][::-1]\n",
        "            pre_score, (pre_query_str, pre_lib_str)  = needleman_wunsch(query_prefix, lib_prefix, conf_prefix, gap=gap)\n",
        "            \n",
        "            # re-reverse the strings to return them to the proper order. Size is the length without gaps, used to find the exact query/library indices used in the optimal alignment \n",
        "            pre_query_str = pre_query_str[::-1]\n",
        "            pre_query_size = len(pre_query_str) - pre_query_str.count('-')\n",
        "            pre_lib_str = pre_lib_str[::-1]\n",
        "            pre_lib_size = len(pre_lib_str) - pre_lib_str.count('-')\n",
        "            query_suffix = query[hsp_stop:len(query)]\n",
        "            \n",
        "            lib_suffix = lib_seq[lib_stop: lib_stop + min(len(lib_seq), int(1.5 * len(query_suffix))) + 5]\n",
        "            conf_suffix = conf[lib_stop: lib_stop + min(len(lib_seq), int(1.5 * len(query_suffix))) + 5]\n",
        "            post_score, (post_query_str, post_lib_str) = needleman_wunsch(query_suffix, lib_suffix, conf_suffix, gap=gap)\n",
        "\n",
        "            post_query_size = len(post_query_str) - post_query_str.count('-')\n",
        "            post_lib_size = len(post_lib_str) - post_lib_str.count('-')\n",
        "\n",
        "            query_aligned_indices = (hsp_start - pre_query_size, hsp_stop + post_query_size)\n",
        "            lib_aligned_indices = (lib_start - pre_lib_size, lib_stop + post_lib_size)\n",
        "            \n",
        "            score_tot = pre_score + entry[0] + post_score\n",
        "\n",
        "            # string representations of the alignment indicating gaps\n",
        "            query_aligned = pre_query_str + query[hsp_start:hsp_stop] + post_query_str\n",
        "            lib_aligned = pre_lib_str + lib_seq[lib_start:lib_stop] + post_lib_str\n",
        "\n",
        "            # a version that shows the separation between the ungapped and needleman-wunsch portions of the algorithm, useful for debugging\n",
        "            # query_aligned = pre_query_str + '|' + query[hsp_start:hsp_stop] + '|' + post_query_str\n",
        "            # lib_aligned = pre_lib_str + '|' + lib_seq[lib_start:lib_stop] + '|' + post_lib_str\n",
        "\n",
        "            outputs.append((score_tot, query_aligned_indices, lib_aligned_indices, (query_aligned, lib_aligned)))\n",
        "        else:\n",
        "            break\n",
        "    nw_time = time.time()\n",
        "    if verbose:\n",
        "        print('Needleman Wunsch extensions completed in ', nw_time - ug_time, 'seconds')\n",
        "\n",
        "    outputs = sorted(outputs, key=lambda x: x[0], reverse=True)\n",
        "    # for out in outputs[0:get_top]:\n",
        "        # print(out[0:3])\n",
        "        # print('query seq: \\t', out[3][0])\n",
        "        # print('library: \\t', out[3][1])\n",
        "        # print('\\n')\n",
        "    return outputs"
      ],
      "execution_count": 25,
      "outputs": []
    },
    {
      "cell_type": "markdown",
      "metadata": {
        "id": "ZdUTmnjcJWRt"
      },
      "source": [
        "# Testing the Algorithm"
      ]
    },
    {
      "cell_type": "markdown",
      "metadata": {
        "id": "xDDb8z5j18T2"
      },
      "source": [
        "## Functions to Generate Random Mutated Subsequences\n",
        "Plus: a way to easily(ish) set a bunch of arguments at once (coming soon)"
      ]
    },
    {
      "cell_type": "code",
      "metadata": {
        "id": "H4P1iKgJTWoE"
      },
      "source": [
        "'''\n",
        "\n",
        "kwargs = {\n",
        "    w : 7               # Word length\n",
        "    S :                 # \n",
        "    match : 1           # Nucleotide match score\n",
        "    mismatch : -2       # Nucleotide mismatch score\n",
        "    gap : -2            # Gap penalty (current implementation is linear penalty only)\n",
        "    T :                 # Minumum HSP score during ungapped extension to continue to gapped extension (Threshold)\n",
        "    D :                 # Score below maximum found so far to stop ungapped extension (Delta - must be positive)\n",
        "}\n",
        "\n",
        "'''\n",
        "pass"
      ],
      "execution_count": 26,
      "outputs": []
    },
    {
      "cell_type": "code",
      "metadata": {
        "id": "VxxVkMSWJZFS"
      },
      "source": [
        "# generates a subsequence with a length between min_len and max_len (both inclusive)\n",
        "def get_subseq_indices(seq, min_len, max_len, rng=None):\n",
        "    if rng is None:\n",
        "        rng = np.random.RandomState()\n",
        "    length = rng.randint(min_len, high=max_len + 1)\n",
        "    start_pos = rng.randint(0, high=len(seq) - length + 1)\n",
        "    end_pos = start_pos + length\n",
        "    return start_pos, end_pos\n",
        "\n",
        "\n",
        "# attempts to mutate a subsequence at every nucleotide, with the probability of a mutation equal to (1 - confidence level) at that nucleotide\n",
        "def randomize_subseq(seq, conf, start_pos, end_pos, added_mut_chance=0, rng=None):\n",
        "    if rng is None:\n",
        "        rng = np.random.RandomState()\n",
        "    seq = seq[start_pos : end_pos]\n",
        "    conf = conf[start_pos : end_pos]\n",
        "    length = end_pos - start_pos\n",
        "    lst = []\n",
        "    for i in range(0, length):\n",
        "        lst.append(mutate(seq[i], conf[i], added_mut_chance=added_mut_chance, rng=rng))\n",
        "    output = ''.join(lst)\n",
        "    return output\n",
        "\n",
        "\n",
        "# returns a mutated subsequence with length between min_len and max_len (both inclusive), with mutation frequency at each nucleotide inversly proportional to the confidence at that nucleotide\n",
        "# also returns the indices of the library used to generate the sequence, for testing the accuracy of the alignment.\n",
        "def get_rand_subseq(seq, conf, min_len, max_len, rng=None, indel_coeff=0.04, avg_indel_len=3, added_mut_chance=0, verbose=False):\n",
        "    if rng is None:\n",
        "        rng = np.random.RandomState()\n",
        "    start_pos, end_pos = get_subseq_indices(seq, min_len, max_len, rng=rng)\n",
        "    mutated = randomize_subseq(seq, conf, start_pos, end_pos, added_mut_chance=added_mut_chance, rng=rng)\n",
        "    gapped = gapify(mutated, indel_coeff, rng=rng, avg_length=avg_indel_len)\n",
        "    if verbose:\n",
        "        print((start_pos, end_pos))\n",
        "    return gapped, (start_pos, end_pos)\n",
        "\n",
        "\n",
        "# generates random nucleotides of a given length (for simulating insertions)\n",
        "def rand_nucleotides(length, rng=None, p=None):\n",
        "    if rng is None:\n",
        "        rng = np.random.RandomState()\n",
        "    nucleotides = ['A', 'C', 'G', 'T']\n",
        "    sample = rng.choice(nucleotides, size=length, p=p).tolist()\n",
        "    return ''.join(sample)\n",
        "\n",
        "\n",
        "# randomly adds and removes nucleotides from a sequence to simulate insertions and deletions\n",
        "# \n",
        "# InDel mutation chance paper: https://www.ncbi.nlm.nih.gov/pmc/articles/PMC4563830/\n",
        "# https://www.ncbi.nlm.nih.gov/pmc/articles/PMC2734402/\n",
        "def gapify(seq, avg_indel_proportion, rng=None, avg_length=3):\n",
        "    if avg_indel_proportion <= 0:\n",
        "        return seq\n",
        "    if rng is None:\n",
        "        rng = np.random.RandomState()\n",
        "    avg_num_indels = (len(seq) * avg_indel_proportion)/avg_length\n",
        "    num_indels = rng.negative_binomial(avg_num_indels, 0.5)\n",
        "    insert_or_delete = rng.randint(0, 2, size=num_indels)     # currently, probabilites for insertion and deletion are equal. 0 => insert, 1 => delete\n",
        "    \n",
        "    indices = rng.choice(len(seq), size=num_indels, replace=False).tolist()\n",
        "    indices = [0] + indices\n",
        "    indices.sort()\n",
        "    split = [seq[i:j] for i, j in zip(indices, indices[1:] + [None])]\n",
        "\n",
        "    for i in range(0, num_indels):\n",
        "        length = rng.poisson(lam=avg_length)                  # length of the indel\n",
        "        if insert_or_delete[i] == 0:\n",
        "            # insertion\n",
        "            split[i+1] = rand_nucleotides(length, rng=rng) + split[i+1]\n",
        "        else:\n",
        "            # deletion\n",
        "            split[i+1] = split[i+1][length:]\n",
        "    output = ''.join(split)\n",
        "    return output"
      ],
      "execution_count": 27,
      "outputs": []
    },
    {
      "cell_type": "markdown",
      "metadata": {
        "id": "Tk0b6Q9E2VVq"
      },
      "source": [
        "## Testing"
      ]
    },
    {
      "cell_type": "code",
      "metadata": {
        "id": "O6Vw3WQaVMoy"
      },
      "source": [
        "lib = load_library('test_lib_w7.json')"
      ],
      "execution_count": 28,
      "outputs": []
    },
    {
      "cell_type": "code",
      "metadata": {
        "id": "w6xGf4-vnGWR",
        "colab": {
          "base_uri": "https://localhost:8080/"
        },
        "outputId": "c711083a-abbf-400c-b489-e4be2db59607"
      },
      "source": [
        "# test on long sequence (5000 bp). Takes about 2 minutes on Colab, from my testing.\n",
        "\n",
        "seed = 22329\n",
        "rng = np.random.RandomState(seed=seed)\n",
        "query, true_inds = get_rand_subseq(library_seq, conf, 5000, 5001, indel_coeff=0.04, added_mut_chance=0.0, rng=rng, verbose=True)\n",
        "print(query)\n",
        "print(library_seq[true_inds[0]:true_inds[1]])\n",
        "print()\n",
        "likely_candidates = ProbaBLAST(query, library_seq, lib, conf)\n",
        "\n",
        "for alignment in likely_candidates:\n",
        "    header = (alignment[0], alignment[1], alignment[2])\n",
        "    print_alignment(alignment[3][0], alignment[3][1], header=header)"
      ],
      "execution_count": 29,
      "outputs": [
        {
          "output_type": "stream",
          "name": "stdout",
          "text": [
            "(327023, 332023)\n",
            "AGGAGTTTTTTTATGAAGTGACCAAAAGAACAAACAATAAAGAAAAAATAGAAAAAAGGGAAATAAGGGAGATAATCAAAGTGTATGTCCAAACCCTTCGGATGCTCTGGACAAAGGTCTGTGGTCCCATCTTACCTGCGTCAATGGCACACGGGTAATGGTATCGGAAGGAGCAGCCTTTGTTGTAGCAGCCCAAGGTGGCGCCTGCCTCCTGGCAGTGGGAACATTTCTGAAAGGAAGGAAGAACTCAGGCATGTCAGGCTTATCCCAGACTCACCCCTCTCCTCCCGGCCTTCCCTCGACCCCATTGGTTAGACCGCAGCACGTGTCCTTGATCTGTGGTTACAGGAGTCTGTGGTGGCAGGACGGGCTGGTCAATTTCTAACCGCCACTCTCTGACCACACCAGAGGAAGGGATCCACCAACAACGTTTTAGGCCAGGCCTCACAAATGTTCGCAAATAAATCAAAGAACACCACAGCGGGGCGAGAGAATCATTCCCAAGAGTCGTGGTGGACACGCCAGAGGGCGGGGCACCCAGCCCTGCCTCTGGCGTGCCCGCTGTCCACCCACCCTCGCTCGCGCTGCCGGTCATTTTCCTCTTTCATCACCGCTATCTTGAGCTGCCCGCAGATCTTGCCTGTTTATTTCTGCTGTGGAAGTCTGGAGTAGGAGAGCGTAAGATAGTAGAGTTATATATAAACCTTTTAGAATTAAAAGTGGAATTCGGTTTCTAGTTCTTATATTTGTAAGATTTTATTTTTATTTTTGATCTACTTACCCCAAATGCCCAATACAAGTATATTTCCCTTTTCAGAAATATGGGCTCCTGTGTGCAAACGGTATTTTTATACACGAATCCTATTTTAAATGCACTAGGAAACCTGCCATGAATTTCTCGGCTAAGTGAGACATTATTCTGTAATTGAGAGGCTCCTCCTTATATGGTCAGGTTTTCTTAAAGTGGGGCACATCTCTACCATCCCTGGGATGTGGCTGCTGGGAGCGCTCAATCATCCAGTCGGCATAAGAAACGCGTCCTATCAACAATAATCTTATTAGTAAAACTCAACCACAGGTGGCCCTACTGAGGAAGGATGCAGACGGTTCTTCAGGTGGCCGAGCCACACATCCAGATAAAGCTAACCGGAAGATACAGACACTTGGTCCTGCTTCTATGAAAAGTAAAATTGCTCCCTAAGCTGTTACACCCGGGCTGGCTCGAGCCCCCCACGCAGATGCTGATGGTAAAACTACACTAACGCCAGCAACAGCGAAGCCCACGTGCTCACCTCGCGTGGGGCGGAGCTGTAGGCGACTGACGTGGAGTAACTCATGCAGTCCTCTTAACTCCCCTGATAGTTGCTCCTAACTCCACAGATGAGATGCCTGAAGCACCTGAGTGAAAGTAACTTTCTCCAGGTCAGAGCTGTCACGAGTCCCGGCCGACCACCCCTGGAATCGTCCAGAGACAAAGGGTGCAGGAACAAGGGCTGTAATAGACAAGGCCTTCAAGAGCTTCGCCTTTCCTCTCAGAAGACGAAGATCCTTCTGGGTGCCGATAATCAGTAAACGTCTACCATGCGCCCTCACACCCTTGCCAAGAAATAAAAAATCACTTGGCCTGGAGCGAATAAACCAAGGACAGTTAGTAGCATTTCTGGTAGCCCTAGACTTTATCTACTTTTGTCATCGCCACAGGGCACCTCCGCAATAAACAACTAGGCCCATCAACCCGAGGGAATGAAGCGTGGCTGTTTTGAGGAGTATCGGTGGCCCAACCGCAGCCATTCCTGCTACCCTTTTCTCATTTTATCAGAGAGCCCCAGACTGTCAGCCACTCGCATTTACGAGATATCCAAAGCGGGTCTCATACTCCAGAGTTACCAGTTAGCCACGGGGCCCGAACATCAGGCCCTCCCCACCCTGGGGGCTGAATCTCACTTAGTGGTGGCCATTTAGGAATGGGTAGCATTTCTGGTAGGAAAGTCTGCAGGAAGAAGACGAGCTTCTGTTAAGGTTCTAGTATGAAAGTTTCGCCCTCTTAAAAAGGACAAGAGGGAGGAACAGGCCATCTTCTCGATCAGCCTCAGTGAGGAATGGACAGGGGGATCTGTGGCAACCATCTTATCCCCCAGAGGGGACAGCCCCGAAGACAAAGCCAACCTGCTGAGGACAGCAGAGTGACAAGAGGGAGAGAACCCGAACATCCGCGACACTGATTAGCACTAGGATAAATGAACCAACCCCAGGACCACCCCAACTCCAGACTTGTTACTGGACAGCACTTAGGCACTGCTGTATAACTGTTAAGTGTGCTCTGGAACCTAAATAACTGCCTGGTAAGTGATTCCACTACTTTCTAGCTAGCCGTTCTTGGCCAAATTCCTAACCTTTGTTTCCTCAACCTGCAAACGTGGTTCTAATAATAGCATTTACCTGACAGAGATGTTGATGAGGGTTAAATGCGTTAATCCAGGCTTAGAACAGTGGCTGGATCAAAAGCGCTCAGGAAAGGTGACCCAAGATGACCACGTGCCAGACACACACTAGACGCTCTACACAGACCATCGGAAGAAAAGCAACCCGCAGAGCAGGCCTTGTCATCACCCCAGTTTACAGACTTGAAGGGAAAAGTTGGAGCTTGGATCTGAACAATGTCCGTTTCCTTCCTACCTCAACTCCTCGACCAAGCCACCAGTGTACACACCCCAAGATTAATTTACTAGGCGATCTTGCATCCAAAGGGGAAAGGCCCTCAAGGTTTATTAGGGCCTTAGAGAAAGGACCTTAAAGAGTTTAGTGCAGTGGTTCTCTAAGTGTGGTCCCCTGGACCAGCAGCATCTGCATCACAGGGGAACTTGTCAGAAATGCACTTTACGAGTGGGCGAGGCTGGTCGGGAACCAACCACCTCAAGTGCGTGCCTGCCAGAAATGCAGATTCTCGAGCCCCACCTAAATCTGTGTAAGAAGTCCTCCATGGCGCGGCAATTCTGATGCACAATTCAGTTTGAGAACCACTGGTCCAATTCACGGATACTCCCCAACTTTTTAGATGAGGAAAACAAAGACCCAGAGAGATGCAATGACTGGCTGAGCTAGGGTTTCCTGCGAGCCATTTAGTGCTTTCTCCACTACAGACCAATCTACATGATGGGGTGTGGTAGGCTGAATCCCCACGGAACCTGTGCCCTTACATTCTATGCAAAAGGCACTTTGCAGAGGAGATTAAGTCAAGGACCTGGAGACGGGCAGAATATGCTGGATTATCCGGGCCCAATCTAATCACAAGGGTCCATAAAAGCAAAAACCTCTCCCAGAGTGGTAGTCAGAGTCTGGCTTTAGGGAGATGTGATGATCGGAGCAGGGTCAGAGACGCCACGCTGCTGGTTTTGAAGATGGAAGCGAAGGGGCCTCGGGGCAGCTCTAGAATCTGGAAAAGGCAAGCAAATAAATTCTTCCCTAGAGTCTCCAGAAAGGAACAGAGCCCTGCCGACACCTACATTATAGCCCAGGGAGACTGGTGTGTGGGACTTCTAACCTACAGAACTGTAAGAGGACAATTAACGAAGTTTGTGGTAATGTGTCACTGAGCCAGCGATAGAAAACTAATACCGGGGGATTTCCGAGCTCATCAGAGAAGTGACTGGTCATTTTCCTTTGATTACGTTCTTCAATGTAACTAATTTCTCCCTCATGGAAACACCGACAATCTCACGCACTTTTGATTAGAAGCAAATTCTGGCATCACGAGATCACTGAAGAAGGGACTCTGGGTCTGTCTTCAACGCCCTTTTTTCTAGTTGAAGAAACAGACGCTAAAGCAAAGTGACCTGCTGAAGATCACATAGCTAGGAAGAGAACTTAGAACTTCAGCCGTTTTTCTTCCGAACCCCAAGTTTCAACATTCTTGATACCAACTTTTACCAGGCTGCCTTCTACTCCCCTTCATTCACTCAACTATCCAACATTTGAAAAGTACTTCCTATGTGCCAGGTGCCTAAGACAGAATATAAAAACTTACCTCTTCTCCGTCTATATCACTTCTCCCCTTCTATCCCAAAATCAATACCCAGGCTAGTACCATTTCCAATTAGATTTTTATTCTGTACTTTTTACCTGAAGAAACTATTTGCACTATCATTCTCCCATACTGCAAATAATATAATAGTCACTGCACAGCTAAAGGGTTGTCCTTTGTTTTTGATTACGACACTGTTGTTACATTCATCTAGGATAGGTAAGTCCACACAATACTGCTCCCCACACAAATGAGACACACAGTGGGGCTTCAACCATGGTTTCTGGTCAAATCAAGATACATTTTCTAAATAAGCAACGGACCAATCTTTCAGATGATCTTTTAAATAGTGAATTTTTCATTTATTATGGAAGGGAATAAGCTATTTTTTAAGCAACTCTGACAAGAATCTTGCATTTCTTGATACTGTAACCTTGGGAAATAAATTATAAAATGTATTATTAGTTTTTGGATTCAGGACATGTTTAAACAGAAAGTGGCCACACACCCACCCAGAGCCTTTCACCAGCCCTTGTCACTGTCTCAGAGGCAGCTGACTTGAGGTGGCAAACTGCAGGGGCTGAATCACCTAAGTAAAGCCGTTTAATCCTAATCGCACGGAAGCTCCAAGGGAGAATTCTGCAATCCTCATGCCTCTTCATTCACAGAAAGGCTCTTTCCTATGAGATGTAACAGCGACCTGAATAATCGCTCTGTATAATGAGCATCTCAGAGCAGCCTCTGAGCGCCGAAGCATTTGGGTCAGAGTATTATTAGTGCCCTCATGACGATAGGTTCTGTTCGAGCCTTACAGATCACACACTTTGCCACTACAGTGCCGAGGATGGCTTTTATCCAGCACTGCACACACTAGTGCTCGTGCTTACTTACTTATTCATGTTTGTCCACCTCCCCTAAACCCTGGGAGATTCATTCTTGGGACCCCAGGTCCAGGCACACAGTAGGAACCGTAAATGTGGGCTGATGGAATGAAAGCAATGTCTGACAAACATGAGAGCTCGGAGAAAACTAA\n",
            "AGGAGTTTTTTTATGAAGTGACAAAAAGAACAAACAAGAAAGAAAAAAAACAAAAAAGGGAAAAAAGGGAGAGAATCAAAGTGTATGTCCTAACCCTTCGGATGCTCTGGACAAGGGTCCGTGGTCCCATCTTACCTGCGTCAATGGCACACGGGTAATGGTATCGGAAGGAGCAGCCTTTGTTGTAGCAGCCCAAGGTGGCGCCTGCCTCCTGGCAGTGGGAACATTTCTGAAAGGAAGGAAGAAGTCAGGCATGTCAGTATCCCAGACTCACCCCTCTCCTCCAGGCCTTCCCCAGACCCCATCGGTTAGACCTCAGCACGTGTCTCTGTGGTTACAGGAGTCTGTGGTGGCAGGACGGGCTGGTCAATTTCTAACCGCCACTCACTGACCACACCATGGGAAGGGATCCAGCAACAACGTTTTAGGCCAGGCCTCACAAATGTTCTCAAATAAATCAAACAGAACACCACAGCGGGGCGAGATAAGCAATCCTAAGGAACGTGGTGGACACGCCAGAGGGCGGGGCACCCAGCCCTGCCTCTGGTGTTCCCGCTGTCCACCCGCCCGCGCGCTCTGCCTGTCATTTTCCTCATTCCTCACCGCTATCTTGAGCTGCCTGCAGATCTTGCCTGTTTATTTCTGCTGTGGAAGTCTGGGGTAGGAGAGGGTAAGATAGTAGAGTTATATATAAACCTTTTAGAATTAAAAGTGGAATTTGGTTTCTAGTTCTTATATTTGTAAGATTTTATTTTTATTTTTGATCTACTTACCCCAAATGCCCAATACAAGTATATTTCCCTTTTCAGAAAATATGGGCTCCTGTGTGCAAACGGTATTTTTATACACGAATCCTATTTTAAATGCACTAGGAAACCTGCCATGAATTTCTGGCTAAGTGAGACATTATTCTGTAATTGAGATGCTCCTCCTTATATGGTCAGGTTTTCTTAAAGTGGGGCACATCTCTATCATCCCTGTGATGTGGCTGCTGTGAGCGCTCACTCATCCTGTCGGCATAAGAAATGTGTCCTATCAACAATAATCATATTCGTAAAATTCAACCACATGTGGCCCTACTGAGGAAGGATGCAGACTCTTCAGGTGGCCGAGGCACACAACCAGATAAGGCTAACCGGAAGATACAGACACTTGTTCCTGCTTCTATGAAAAATAAAAGTGCTCCCTAAGCAGTTACACCTGAGCTAGCTCGAGCCCCCAACGCTGATGCTGATGGTAAAACTACACTAACGCCAGCAACAGCGAAGCCCAAGTGCTCACCACGCGTCGGGCGTCGCTGTATGCGACTGACGTGGATTAACTCATTCAGTCCTCATAACTACCCTGGTAGGTGCTCCTAACTCCACAGATGAGATGCCTGAAGCACCAGAGGGGAAGTAACTTGCTCCAGGTCAGAGCTGAGATTCAGGCTGACCACCCCTGGCATCCTCCAGAGACAAATGGGGCAGGAACAAGGGCTGTAAGAGACAAGTCCTTCAAGAGCTTTGCCTTCCTCTCAGAAGACCAAGATCCTTCTGGGTGCCGATAATCAGTAAATGTTTACCATGTGCCCTCACACCCTTGCCAAGAAATAAAAGATCACTTGGCCTGGAGTAAACCAAGGACAGTTAGCAGCATTTCTGGTAGCCCTAGACTTTATCTACTTTTGTCAGTGCCACAGAGCACCTTCGGAACAAAAGGACCATCAACCCGAGGGAATGAAGCGTGGCTGGTTTGTCGGTGGCCTACCCGCAGCCATTCCTGCTACCCCTTTCTCTTTTCCAAAAGGAGCCCCGATCTGTCACCCACTCCCAATGGTCAGCTATCCCAAGCTGGGCTCATACTCCAGAGCCAGTTATCCAGAGGGCTCGAGCTTCAGGCCCTCCCCACCCTGGGGGATGAATCTCAGTGAGTGGTGGCCATTTAGGAATGGGTGTGTCAAGCATTTCTGGTAGGAAAGTCTGCAGGGAAAGGAGCTTCTGGGAAAGTTCTAGTATGAAAGTTTCGCCCTCTTAAAAAGGGACAAGAGGGAGGAACAGGCCATCTTCTCGCTCAGCCTCTGTGAGGACGGGACAGTGGGATCTGTGGCAACCATCTTATCACCACGAGGGGACAGCCCTGAAGACAAAGCCAACCTGCTGAGGACAGCAGAGTGACAAGACGGAGAGACCCTGACCCTCCGCGACACTGTTGAGCACTAAATTAACCAACCCCAGGACCACCCCACCTCCAGACTTGTTACAGGAGAGCACTTAGGCACTGCTGTATAAAGGTTAAGTGTGTGGGCTCTGGAACCTAAATAACTGCCTGGTAAGTGATTCCACCACTTTCTAGCTATGCGTTCTTGGCCAAATTCCTAACCTTTGTTTCCTCAACCTGCAAACGTGGGACTAATAATAGCACTCACCTCACAGAGATGTTGTGAGGGTTAAATGCGTTAATCCAGGCTTAGAACAGTGGCTGGATCAAAAGCGCTCAGGAAATGTGACCCAAGATGACCACGTGCCAGACACACACTAGACGTTCTACACAGACCATCTCATGAAAAGCAACCCGCAGAGCAGGCCTTGTCATCACCCCAGTTTACAGACGGGAAGAGAAAAGATGGAGCTCGGATCTGAACAATGTCCGTTTCCTTCCTACCTCAACTCCGCGACCCGGCCAACAGTGCGCAAACCCCGCGATTAATTTACTATATTGCATCCAAAGGGGAAAGACCCTCAGGGTATATTAGGGCCTTAGAGAAAGGACCTTAAAGAGTTTAGTTCAGTGGTTCTCAAAGTGTGGTCCCCTGGACCAGCAGCATCAGCATCACCTGGGAACTTGTTAGAAATGCAATTTAAGTGTGGGCCAGGCTGGTCTTGAACCTGCGGCCTCAAGTGTGGGCCAGCCAGAAATGCAAATTCTCGAGCCCCACCTCAATCTGTGCTGTAACAAGTCCTCCAGGCAATTCTGATGCACAATACAGTTTGAGAACCACTGGTCTAATTCAACTCCCCAACTTTTTAGATGAGGAAAACAGAGACACAGAGAGATGCAATGACTGGCTGAGCTAGGATTCCAGGTTTCCTGGGAGCCATTTAGTGCTTTCTCCACTACAGACCAATCTACAGATGATGGGGTGTGGTAGGCAGAATCCCCAGAACCTGTGACCTTACATGCAAAAGGGACTTTGCAGATGTGATTAAGTCAAGGACCTTGAGATGGGGAGAGTATGCTAGATTATCCAGGTGGGCCCAATCTAATCACATGGGTCCATAAAAGCAAAAACCTCTCCCAGAGGGAGTCAGAGTCGCAGGCTTTAGGGAGATGTGATGATGGGAGCAGGGTCAGAGACGCAACGCTGCTGGCTTTGAAGATGGAAGAAGGGGCCACGGGGCAGCTTTAGAAGTTGGAAAAGGCAAGGAAACAAATTCATCCCTAGAGCCTCCAGAAAGGAACACAGCCCTGCCGACACCTCGATTCTAGCCCAGTGAGACCCGTGTGTTGGACTTCTAACCTACAGAACTGTAAGACAACAAGTAACCAAGTTTGTGGTAATGTGTTACAGCAGTGATAGAAAACTAATACGTGGGGATTTCCGAGAATCTCATGAGAGAAGTGACTGCTCATTTTCCTTTTATTACGTTCTTCAATGTAACAAATTTCTCCCTCATGGAAACACCTACAATTTCACTCACTTTTCATTAGGCAAATTTTGGCATCACGAGATCACTGAAGAAGGGACTCTGGGTCTGTCTTCAACGCCCTTTTTTCTAGTTGAAGAAACAGAGGCTAAAGCAAAGTGACCTGCTGAAGATCACATAGCTAGGAAGAGAACTTAGAACTTCAGCCTTTTTTCTTCTGAACCCCAAGTTCAACATTCTTTATACCATACCATGCTGCCTTCTAGTCCCCTTCATTCACTCAACTATCCAACATTTGAAAAGTACTTCCTATGTGCCAGGTGCCAAAGACAGAATATAAAAACTTATCTCTATAATATCTTCCGTATCTATTCTCCCCTTCTATCCCAAAATCAATACCCAGGCTAGTACCATTTCCAATTAGATTTTTATTCTTTACTTTTTACCTGAAGAAACTATTTGCACTATCATTCTCCCATACTGCAAATAATATAATAAAGTCACTGCACAGCTAAATGTCCTTTGTTTTTGACTACACTGTTGTTACATTCATTCCTAGGAGAGGTAAGTCCACACAATACTGCTCCCCACAAAAATGAGACACACAGTGGGGCTTCAAGCATGGTTTCTAAATCAAGATACGTTTTCCAAACAAGCAACGGCCCAATCTTCAAGATGATCTTTTAATAGTGAATTTTTCATTTATTATGGAAGGGAATAAAAGCTATTTTTTAAGCAACTCTGACAAGAATCCTACATTTCTTGATACTGTAAACTTGGGAAATAAATTATAAAATGTATTATTAGTTTTTGGACATGTTTAAACAGAAAGTGGCCAGACACCCACCCTGAGCCTTTCACCAGCCCTTGTCACTGTCTCAGAGGCAGGGCTCGCTGACTTGAGGTGGCAAACTGCAGGGGCTGAATCACCTAAGAGCCGTTTAATCCTCATCCGACGGAAGCTCCAAGGGAGAATTCTGCAAGCCTCATGCCTCTTCATTCACAGAAAGGCTCTTTCCTATGAGATGTAACAGCGACCTGAATAATCGCTCTGTTTAATGAGCATCTCGGAGCAGCCTCAGAGCGCCGAAGCATTTGGGTCAGAGTATTATTAGTGCGCTGATGACGATCGGTTCTGTTCGAGCCTTACAGATCACACACTTTGCCACTACTGTGCCCGGGATGGCTTTTATCCAGCACTGCACACACTTTTGCTCATGCTTACAGTATTTACTTATTCATGTTTGTCCACCTCCCCTAAACTGTGAGATTCATTCTTGTATCCCCAGGGCCTGGCACACCGTAGGAACTGTAAATGTGGGCTGATGGAATGAATGCAATGTCTGACAAACGTGAGAGCTTGGAGAAAACTAA\n",
            "\n",
            "Alingment of query segment (0, 5054) and library segment (327023, 332023) with score = 3620.640\n",
            "query:\t\t AGGAGTTTTTTTATGAAGTGACCAAAAGAACAAACAATAAAGAAAAAATAGAAAAAAGGGAAATAAGGGAGATAATCAAA 80\n",
            "\t\t |||||||||||||||||||||| |||||||||||||| |||||||||| | |||||||||||| |||||||| |||||||\n",
            "library:\t AGGAGTTTTTTTATGAAGTGACAAAAAGAACAAACAAGAAAGAAAAAAAACAAAAAAGGGAAAAAAGGGAGAGAATCAAA 80\n",
            "\n",
            "query:\t\t GTGTATGTCCAAACCCTTCGGATGCTCTGGACAAAGGTCTGTGGTCCCATCTTACCTGCGTCAATGGCACACGGGTAATG 160\n",
            "\t\t |||||||||| ||||||||||||||||||||||| |||| ||||||||||||||||||||||||||||||||||||||||\n",
            "library:\t GTGTATGTCCTAACCCTTCGGATGCTCTGGACAAGGGTCCGTGGTCCCATCTTACCTGCGTCAATGGCACACGGGTAATG 160\n",
            "\n",
            "query:\t\t GTATCGGAAGGAGCAGCCTTTGTTGTAGCAGCCCAAGGTGGCGCCTGCCTCCTGGCAGTGGGAACATTTCTGAAAGGAAG 240\n",
            "\t\t ||||||||||||||||||||||||||||||||||||||||||||||||||||||||||||||||||||||||||||||||\n",
            "library:\t GTATCGGAAGGAGCAGCCTTTGTTGTAGCAGCCCAAGGTGGCGCCTGCCTCCTGGCAGTGGGAACATTTCTGAAAGGAAG 240\n",
            "\n",
            "query:\t\t GAAGAACTCAGGCATGTCAGGCTTATCCCAGACTCACCCCTCTCCTCCCGGCCTTCCCTCGACCCCATTGGTTAGACCGC 320\n",
            "\t\t |||||| |||||||||||||  | |||||||||||||||||||||||| |||||||||  |||||||| ||||||||| |\n",
            "library:\t GAAGAAGTCAGGCATGTCAG--T-ATCCCAGACTCACCCCTCTCCTCCAGGCCTTCCCCAGACCCCATCGGTTAGACCTC 320\n",
            "\n",
            "query:\t\t AGCACGTGTCCTTGATCTGTGGTTACAGGAGTCTGTGGTGGCAGGACGGGCTGGTCAATTTCTAACCGCCACTCTCTGAC 400\n",
            "\t\t |||||||||| |    |||||||||||||||||||||||||||||||||||||||||||||||||||||||||| |||||\n",
            "library:\t AGCACGTGTC-T----CTGTGGTTACAGGAGTCTGTGGTGGCAGGACGGGCTGGTCAATTTCTAACCGCCACTCACTGAC 400\n",
            "\n",
            "query:\t\t CACACCAGAGGAAGGGATCCACCAACAACGTTTTAGGCCAGGCCTCACAAATGTTCGCAAATAAATCAAA--GAACACCA 480\n",
            "\t\t |||||||  |||||||||||| |||||||||||||||||||||||||||||||||| |||||||||||||  ||||||||\n",
            "library:\t CACACCATGGGAAGGGATCCAGCAACAACGTTTTAGGCCAGGCCTCACAAATGTTCTCAAATAAATCAAACAGAACACCA 480\n",
            "\n",
            "query:\t\t CAGCGGGGCGAGAGAATCATTCCCAAGAGTCGTGGTGGACACGCCAGAGGGCGGGGCACCCAGCCCTGCCTCTGGCGTGC 560\n",
            "\t\t ||||||||||||| || || ||| |||   ||||||||||||||||||||||||||||||||||||||||||||| || |\n",
            "library:\t CAGCGGGGCGAGATAAGCAATCCTAAGGAACGTGGTGGACACGCCAGAGGGCGGGGCACCCAGCCCTGCCTCTGGTGTTC 560\n",
            "\n",
            "query:\t\t CCGCTGTCCACCCACCCTCGCTCGCGCTGCCGGTCATTTTCCTCTTTCATCACCGCTATCTTGAGCTGCCCGCAGATCTT 640\n",
            "\t\t ||||||||||||| |||  || ||| ||||| |||||||||||| ||| ||||||||||||||||||||| |||||||||\n",
            "library:\t CCGCTGTCCACCCGCCC--GCGCGCTCTGCCTGTCATTTTCCTCATTCCTCACCGCTATCTTGAGCTGCCTGCAGATCTT 640\n",
            "\n",
            "query:\t\t GCCTGTTTATTTCTGCTGTGGAAGTCTGGAGTAGGAGAGCGTAAGATAGTAGAGTTATATATAAACCTTTTAGAATTAAA 720\n",
            "\t\t ||||||||||||||||||||||||||||| ||||||||| ||||||||||||||||||||||||||||||||||||||||\n",
            "library:\t GCCTGTTTATTTCTGCTGTGGAAGTCTGGGGTAGGAGAGGGTAAGATAGTAGAGTTATATATAAACCTTTTAGAATTAAA 720\n",
            "\n",
            "query:\t\t AGTGGAATTCGGTTTCTAGTTCTTATATTTGTAAGATTTTATTTTTATTTTTGATCTACTTACCCCAAATGCCCAATACA 800\n",
            "\t\t ||||||||| ||||||||||||||||||||||||||||||||||||||||||||||||||||||||||||||||||||||\n",
            "library:\t AGTGGAATTTGGTTTCTAGTTCTTATATTTGTAAGATTTTATTTTTATTTTTGATCTACTTACCCCAAATGCCCAATACA 800\n",
            "\n",
            "query:\t\t AGTATATTTCCCTTTTCAGAAA-TATGGGCTCCTGTGTGCAAACGGTATTTTTATACACGAATCCTATTTTAAATGCACT 880\n",
            "\t\t |||||||||||||||||||||| |||||||||||||||||||||||||||||||||||||||||||||||||||||||||\n",
            "library:\t AGTATATTTCCCTTTTCAGAAAATATGGGCTCCTGTGTGCAAACGGTATTTTTATACACGAATCCTATTTTAAATGCACT 880\n",
            "\n",
            "query:\t\t AGGAAACCTGCCATGAATTTCTCGGCTAAGTGAGACATTATTCTGTAATTGAGAGGCTCCTCCTTATATGGTCAGGTTTT 960\n",
            "\t\t |||||||||||||||||||||| ||||||||||||||||||||||||||||||| |||||||||||||||||||||||||\n",
            "library:\t AGGAAACCTGCCATGAATTTCT-GGCTAAGTGAGACATTATTCTGTAATTGAGATGCTCCTCCTTATATGGTCAGGTTTT 960\n",
            "\n",
            "query:\t\t CTTAAAGTGGGGCACATCTCTACCATCCCTGGGATGTGGCTGCTGGGAGCGCTCAATCATCCAGTCGGCATAAGAAACGC 1040\n",
            "\t\t |||||||||||||||||||||| |||||||| ||||||||||||| ||||||||| |||||| |||||||||||||| | \n",
            "library:\t CTTAAAGTGGGGCACATCTCTATCATCCCTGTGATGTGGCTGCTGTGAGCGCTCACTCATCCTGTCGGCATAAGAAATGT 1040\n",
            "\n",
            "query:\t\t GTCCTATCAACAATAATCTTATTAGTAAAACTCAACCACAGGTGGCCCTACTGAGGAAGGATGCAGACGGTTCTTCAGGT 1120\n",
            "\t\t |||||||||||||||||| |||| |||||| ||||||||| |||||||||||||||||||||||||||  | ||||||||\n",
            "library:\t GTCCTATCAACAATAATCATATTCGTAAAATTCAACCACATGTGGCCCTACTGAGGAAGGATGCAGAC--T-CTTCAGGT 1120\n",
            "\n",
            "query:\t\t GGCCGAGCCACACATCCAGATAAAGCTAACCGGAAGATACAGACACTTGGTCCTGCTTCTATGAAAAGTAAAATTGCTCC 1200\n",
            "\t\t ||||||| |||||| |||||||| ||||||||||||||||||||||||| ||||||||||||||||| ||||| ||||||\n",
            "library:\t GGCCGAGGCACACAACCAGATAAGGCTAACCGGAAGATACAGACACTTGTTCCTGCTTCTATGAAAAATAAAAGTGCTCC 1200\n",
            "\n",
            "query:\t\t CTAAGCTGTTACACCCGGGCTGGCTCGAGCCCCCCACGCAGATGCTGATGGTAAAACTACACTAACGCCAGCAACAGCGA 1280\n",
            "\t\t |||||| |||||||| | ||| |||||||||||| |||| ||||||||||||||||||||||||||||||||||||||||\n",
            "library:\t CTAAGCAGTTACACCTGAGCTAGCTCGAGCCCCCAACGCTGATGCTGATGGTAAAACTACACTAACGCCAGCAACAGCGA 1280\n",
            "\n",
            "query:\t\t AGCCCACGTGCTCACCTCGCGTGGGGCGGAGCTGTAGGCGACTGACGTGGAGTAACTCATGCAGTCCTCTTAACTCCCCT 1360\n",
            "\t\t |||||| ||||||||| ||||| |||||  |||||| |||||||||||||| |||||||| |||||||| ||||| ||||\n",
            "library:\t AGCCCAAGTGCTCACCACGCGTCGGGCGTCGCTGTATGCGACTGACGTGGATTAACTCATTCAGTCCTCATAACTACCCT 1360\n",
            "\n",
            "query:\t\t GATAGTTGCTCCTAACTCCACAGATGAGATGCCTGAAGCACCTGAGTGAAAGTAACTTTCTCCAGGTCAGAGCTGTCACG 1440\n",
            "\t\t | ||| |||||||||||||||||||||||||||||||||||| ||| | ||||||||| ||||||||||||||||  | |\n",
            "library:\t GGTAGGTGCTCCTAACTCCACAGATGAGATGCCTGAAGCACCAGAGGGGAAGTAACTTGCTCCAGGTCAGAGCTG--A-G 1440\n",
            "\n",
            "query:\t\t AGTCCCGGCCGACCACCCCTGGAATCGTCCAGAGACAAAGGGTGCAGGAACAAGGGCTGTAATAGACAAGGCCTTCAAGA 1520\n",
            "\t\t | | | ||| |||||||||||| ||| |||||||||||| || ||||||||||||||||||| ||||||| |||||||||\n",
            "library:\t A-TTCAGGCTGACCACCCCTGGCATCCTCCAGAGACAAATGGGGCAGGAACAAGGGCTGTAAGAGACAAGTCCTTCAAGA 1520\n",
            "\n",
            "query:\t\t GCTTCGCCTTTCCTCTCAGAAGACGAAGATCCTTCTGGGTGCCGATAATCAGTAAACGTCTACCATGCGCCCTCACACCC 1600\n",
            "\t\t |||| ||||| ||||||||||||| ||||||||||||||||||||||||||||||| || ||||||| ||||||||||||\n",
            "library:\t GCTTTGCCTT-CCTCTCAGAAGACCAAGATCCTTCTGGGTGCCGATAATCAGTAAATGTTTACCATGTGCCCTCACACCC 1600\n",
            "\n",
            "query:\t\t TTGCCAAGAAATAAAAAATCACTTGGCCTGGAGCGAATAAACCAAGGACAGTTAGTAGCATTTCTGGTAGCCCTAGACTT 1680\n",
            "\t\t |||||||||||||||| ||||||||||||||||    |||||||||||||||||| ||||||||||||||||||||||||\n",
            "library:\t TTGCCAAGAAATAAAAGATCACTTGGCCTGGAG----TAAACCAAGGACAGTTAGCAGCATTTCTGGTAGCCCTAGACTT 1680\n",
            "\n",
            "query:\t\t TATCTACTTTTGTCA-TCGCCACAGGGCACCTCCGCAATAAACAACTAGGCCCATCAACCCGAGGGAATGAAGCGTGGCT 1760\n",
            "\t\t ||||||||||||||| | ||||||| |||||| || || ||| |    || |||||||||||||||||||||||||||||\n",
            "library:\t TATCTACTTTTGTCAGT-GCCACAGAGCACCTTCGGAACAAA-A----GGACCATCAACCCGAGGGAATGAAGCGTGGCT 1760\n",
            "\n",
            "query:\t\t GTTTTGAGGAGTATCGGTGGCCCAACCGCAGCCATTCCTGCTACCCTTTTCTCATTTTATCAGA-G-AGCCCCAGACTGT 1840\n",
            "\t\t | ||||     |  |||||||| | ||||||||||||||||||||| |||||| ||||  || | | ||||||   ||||\n",
            "library:\t GGTTTG-----T--CGGTGGCCTACCCGCAGCCATTCCTGCTACCCCTTTCTC-TTTTC-CAAAAGGAGCCCCGATCTGT 1840\n",
            "\n",
            "query:\t\t CAGCCACTCGCATTTACGAGATATCCAAAGCGGGTCTCATACTCCAGAGTTACCAGTTAGCCACGGGGCCCGAACATCAG 1920\n",
            "\t\t || |||||| || |    || ||||| |||| || ||||||||||||||   ||||||| |||  |||| ||| | ||||\n",
            "library:\t CACCCACTCCCAATGGTCAGCTATCCCAAGCTGGGCTCATACTCCAGAG---CCAGTTATCCAGAGGGCTCGAGCTTCAG 1920\n",
            "\n",
            "query:\t\t GCCCTCCCCACCCTGGGGGCTGAATCTCACTTAGTGGTGGCCATTTAGGAATGGG----T--AGCATTTCTGGTAGGAAA 2000\n",
            "\t\t ||||||||||||||||||| ||||||||| | |||||||||||||||||||||||    |  ||||||||||||||||||\n",
            "library:\t GCCCTCCCCACCCTGGGGGATGAATCTCAGTGAGTGGTGGCCATTTAGGAATGGGTGTGTCAAGCATTTCTGGTAGGAAA 2000\n",
            "\n",
            "query:\t\t GTCTGCAGGAAGAAGACGAGCTTCTGTTAAGGTTCTAGTATGAAAGTTTCGCCCTCTTAAAAAGG-ACAAGAGGGAGGAA 2080\n",
            "\t\t ||||||||| | |||  |||||||||  || |||||||||||||||||||||||||||||||||| ||||||||||||||\n",
            "library:\t GTCTGCAGGGA-AAG--GAGCTTCTGGGAAAGTTCTAGTATGAAAGTTTCGCCCTCTTAAAAAGGGACAAGAGGGAGGAA 2080\n",
            "\n",
            "query:\t\t CAGGCCATCTTCTCGATCAGCCTCAGTGAGGAATGGACAGGGGGATCTGTGGCAACCATCTTATCCCC-CAGAGGGGACA 2160\n",
            "\t\t ||||||||||||||| |||||||| |||||||  |||||| |||||||||||||||||||||||| || | |||||||||\n",
            "library:\t CAGGCCATCTTCTCGCTCAGCCTCTGTGAGGACGGGACAGTGGGATCTGTGGCAACCATCTTATCACCAC-GAGGGGACA 2160\n",
            "\n",
            "query:\t\t GCCCCGAAGACAAAGCCAACCTGCTGAGGACAGCAGAGTGACAAGAGGGAGAGAACCCGAACATCCGCGACACTGATTAG 2240\n",
            "\t\t |||| ||||||||||||||||||||||||||||||||||||||||| ||||||| || || | |||||||||||| | ||\n",
            "library:\t GCCCTGAAGACAAAGCCAACCTGCTGAGGACAGCAGAGTGACAAGACGGAGAGACCCTGACCCTCCGCGACACTGTTGAG 2240\n",
            "\n",
            "query:\t\t CACTAGGATAAATGAACCAACCCCAGGACCACCCCAACTCCAGACTTGTTACTGGACAGCACTTAGGCACTGCTGTATAA 2320\n",
            "\t\t |||||  | |  | |||||||||||||||||||||| ||||||||||||||| ||| |||||||||||||||||||||||\n",
            "library:\t CACTA--A-A--TTAACCAACCCCAGGACCACCCCACCTCCAGACTTGTTACAGGAGAGCACTTAGGCACTGCTGTATAA 2320\n",
            "\n",
            "query:\t\t CTGTTAAGTG--TG--CTCTGGAACCTAAATAACTGCCTGGTAAGTGATTCCACTACTTTCTAGCTA-GCCGTTCTTGGC 2400\n",
            "\t\t   ||||||||  ||  |||||||||||||||||||||||||||||||||||||| |||||||||||| || |||||||||\n",
            "library:\t AGGTTAAGTGTGTGGGCTCTGGAACCTAAATAACTGCCTGGTAAGTGATTCCACCACTTTCTAGCTATGC-GTTCTTGGC 2400\n",
            "\n",
            "query:\t\t CAAATTCCTAACCTTTGTTTCCTCAACCTGCAAACGTGGTTCTAATAATAGCATTTACCTGACAGAGATGTTGATGAGGG 2480\n",
            "\t\t |||||||||||||||||||||||||||||||||||||||  |||||||||||| | |||| |||||||||||| ||||||\n",
            "library:\t CAAATTCCTAACCTTTGTTTCCTCAACCTGCAAACGTGGGACTAATAATAGCACTCACCTCACAGAGATGTTG-TGAGGG 2480\n",
            "\n",
            "query:\t\t TTAAATGCGTTAATCCAGGCTTAGAACAGTGGCTGGATCAAAAGCGCTCAGGAAAGGTGACCCAAGATGACCACGTGCCA 2560\n",
            "\t\t ||||||||||||||||||||||||||||||||||||||||||||||||||||||| ||||||||||||||||||||||||\n",
            "library:\t TTAAATGCGTTAATCCAGGCTTAGAACAGTGGCTGGATCAAAAGCGCTCAGGAAATGTGACCCAAGATGACCACGTGCCA 2560\n",
            "\n",
            "query:\t\t GACACACACTAGACGCTCTACACAGACCATCGGAAGAAAAGCAACCCGCAGAGCAGGCCTTGTCATCACCCCAGTTTACA 2640\n",
            "\t\t ||||||||||||||| |||||||||||||||  | |||||||||||||||||||||||||||||||||||||||||||||\n",
            "library:\t GACACACACTAGACGTTCTACACAGACCATCTCATGAAAAGCAACCCGCAGAGCAGGCCTTGTCATCACCCCAGTTTACA 2640\n",
            "\n",
            "query:\t\t GACTTGAAGGGAAAAGTTGGAGCTTGGATCTGAACAATGTCCGTTTCCTTCCTACCTCAACTCCTCGACCAAGCCACCAG 2720\n",
            "\t\t |||  |||| |||||| ||||||| ||||||||||||||||||||||||||||||||||||||| |||||  |||| |||\n",
            "library:\t GACGGGAAGAGAAAAGATGGAGCTCGGATCTGAACAATGTCCGTTTCCTTCCTACCTCAACTCCGCGACCCGGCCAACAG 2720\n",
            "\n",
            "query:\t\t TGTACACACCCCAAGATTAATTTACTAGGCGATCTTGCATCCAAAGGGGAAAGGCCCTCAAGGTTTATTAGGGCCTTAGA 2800\n",
            "\t\t ||  || |||||  |||||||||||||     | ||||||||||||||||||| |||||| ||| |||||||||||||||\n",
            "library:\t TGCGCAAACCCCGCGATTAATTTACTA-----TATTGCATCCAAAGGGGAAAGACCCTCAGGGTATATTAGGGCCTTAGA 2800\n",
            "\n",
            "query:\t\t GAAAGGACCTTAAAGAGTTTAGTGCAGTGGTTCTCTAAGTGTGGTCCCCTGGACCAGCAGCATCTGCATCACAGGGGAAC 2880\n",
            "\t\t ||||||||||||||||||||||| ||||||||||| |||||||||||||||||||||||||||| |||||||  ||||||\n",
            "library:\t GAAAGGACCTTAAAGAGTTTAGTTCAGTGGTTCTCAAAGTGTGGTCCCCTGGACCAGCAGCATCAGCATCACCTGGGAAC 2880\n",
            "\n",
            "query:\t\t TTGTCAGAAATGCACTTTACGAGTGGGCGAGGCTGGTCGGGAACCAACCACCTCAAGTGCGTGCCTGCCAGAAATGCAGA 2960\n",
            "\t\t |||| ||||||||| |||| | |||||| |||||||||  |||||  |  ||||||||| | ||| |||||||||||| |\n",
            "library:\t TTGTTAGAAATGCAATTTAAGTGTGGGCCAGGCTGGTCTTGAACCTGCGGCCTCAAGTGTGGGCCAGCCAGAAATGCAAA 2960\n",
            "\n",
            "query:\t\t TTCTCGAGCCCCACCTAAATCTGTG---TAAGAAGTCCTCCATGGCGCGGCAATTCTGATGCACAATTCAGTTTGAGAAC 3040\n",
            "\t\t |||||||||||||||| ||||||||   ||| |||||||||| |||     |||||||||||||||| ||||||||||||\n",
            "library:\t TTCTCGAGCCCCACCTCAATCTGTGCTGTAACAAGTCCTCCA-GGC-----AATTCTGATGCACAATACAGTTTGAGAAC 3040\n",
            "\n",
            "query:\t\t CACTGGTCCAATTCACGGATACTCCCCAACTTTTTAGATGAGGAAAACAAAGACCCAGAGAGATGCAATGACTGGCTGAG 3120\n",
            "\t\t |||||||| ||||||   |  |||||||||||||||||||||||||||| |||| |||||||||||||||||||||||||\n",
            "library:\t CACTGGTCTAATTCA---A--CTCCCCAACTTTTTAGATGAGGAAAACAGAGACACAGAGAGATGCAATGACTGGCTGAG 3120\n",
            "\n",
            "query:\t\t CTAGG------G-TTTCCTGCGAGCCATTTAGTGCTTTCTCCACTACAGACCAATCTAC--ATGATGGGGTGTGGTAGGC 3200\n",
            "\t\t |||||      | ||||||| ||||||||||||||||||||||||||||||||||||||  |||||||||||||||||||\n",
            "library:\t CTAGGATTCCAGGTTTCCTGGGAGCCATTTAGTGCTTTCTCCACTACAGACCAATCTACAGATGATGGGGTGTGGTAGGC 3200\n",
            "\n",
            "query:\t\t TGAATCCCCACGGAACCTGTGCCCTTACATTCTATGCAAAAGGCACTTTGCAGAGGAGATTAAGTCAAGGACCTGGAGAC 3280\n",
            "\t\t  ||||||||| | |||||||| ||||||||     |||||||| |||||||||| | ||||||||||||||||| |||| \n",
            "library:\t AGAATCCCCA-G-AACCTGTGACCTTACAT-----GCAAAAGGGACTTTGCAGATGTGATTAAGTCAAGGACCTTGAGAT 3280\n",
            "\n",
            "query:\t\t GGGCAGAATATGCTGGATTATCC-GG-G--CCCAATCTAATCACAAGGGTCCATAAAAGCAAAAACCTCTCCCAGAGTGG 3360\n",
            "\t\t ||| ||| |||||| |||||||| || |  ||||||||||||||| ||||||||||||||||||||||||||||||| ||\n",
            "library:\t GGGGAGAGTATGCTAGATTATCCAGGTGGGCCCAATCTAATCACATGGGTCCATAAAAGCAAAAACCTCTCCCAGAG-GG 3360\n",
            "\n",
            "query:\t\t TAGTCAGAGTC-T-GGCTTTAGGGAGATGTGATGATCGGAGCAGGGTCAGAGACGCCACGCTGCTGGTTTTGAAGATGGA 3440\n",
            "\t\t  ||||||||||   |||||||||||||||||||||| ||||||||||||||||||| |||||||||| ||||||||||||\n",
            "library:\t -AGTCAGAGTCGCAGGCTTTAGGGAGATGTGATGATGGGAGCAGGGTCAGAGACGCAACGCTGCTGGCTTTGAAGATGGA 3440\n",
            "\n",
            "query:\t\t AGCGAAGGGGCCTCGGGGCAGCTCTAGAATCTGGAAAAGGCAAGCAAATAAATTCTTCCCTAGAGTCTCCAGAAAGGAAC 3520\n",
            "\t\t ||  |||||||| |||||||||| |||||  ||||||||||||| ||| |||||| ||||||||| ||||||||||||||\n",
            "library:\t AG--AAGGGGCCACGGGGCAGCTTTAGAAGTTGGAAAAGGCAAGGAAACAAATTCATCCCTAGAGCCTCCAGAAAGGAAC 3520\n",
            "\n",
            "query:\t\t AGAGCCCTGCCGACACCTACATTATAGCCCAGGGAGACTGGTGTGTGGGACTTCTAACCTACAGAACTGTAAGAGGACAA 3600\n",
            "\t\t | ||||||||||||||||  ||| |||||||| |||||  |||||| |||||||||||||||||||||||||||  ||||\n",
            "library:\t ACAGCCCTGCCGACACCTCGATTCTAGCCCAGTGAGACCCGTGTGTTGGACTTCTAACCTACAGAACTGTAAGACAACAA 3600\n",
            "\n",
            "query:\t\t TTAACGAAGTTTGTGGTAATGTGTCACTGAGCCAGCGATAGAAAACTAATACCGGGGGATTTCCGAG---CTCATCAGAG 3680\n",
            "\t\t  |||| |||||||||||||||||| ||  ||| || ||||||||||||||||  |||||||||||||   ||||| ||||\n",
            "library:\t GTAACCAAGTTTGTGGTAATGTGTTAC--AGC-AGTGATAGAAAACTAATACGTGGGGATTTCCGAGAATCTCATGAGAG 3680\n",
            "\n",
            "query:\t\t AAGTGACTGGTCATTTTCCTTTGATTACGTTCTTCAATGTAACTAATTTCTCCCTCATGGAAACACCGACAATCTCACGC 3760\n",
            "\t\t ||||||||| |||||||||||| |||||||||||||||||||| ||||||||||||||||||||||| ||||| |||| |\n",
            "library:\t AAGTGACTGCTCATTTTCCTTTTATTACGTTCTTCAATGTAACAAATTTCTCCCTCATGGAAACACCTACAATTTCACTC 3760\n",
            "\n",
            "query:\t\t ACTTTTGATTAGAAGCAAATTCTGGCATCACGAGATCACTGAAGAAGGGACTCTGGGTCTGTCTTCAACGCCCTTTTTTC 3840\n",
            "\t\t |||||| |||||  ||||||| ||||||||||||||||||||||||||||||||||||||||||||||||||||||||||\n",
            "library:\t ACTTTTCATTAG--GCAAATTTTGGCATCACGAGATCACTGAAGAAGGGACTCTGGGTCTGTCTTCAACGCCCTTTTTTC 3840\n",
            "\n",
            "query:\t\t TAGTTGAAGAAACAGACGCTAAAGCAAAGTGACCTGCTGAAGATCACATAGCTAGGAAGAGAACTTAGAACTTCAGCCGT 3920\n",
            "\t\t |||||||||||||||| ||||||||||||||||||||||||||||||||||||||||||||||||||||||||||||| |\n",
            "library:\t TAGTTGAAGAAACAGAGGCTAAAGCAAAGTGACCTGCTGAAGATCACATAGCTAGGAAGAGAACTTAGAACTTCAGCCTT 3920\n",
            "\n",
            "query:\t\t TTTTCTTCCGAACCCCAAGTTTCAACATTCTTGATACCAACTTTTACCAGGCTGCCTTCTACTCCCCTTCATTCACTCAA 4000\n",
            "\t\t |||||||| |||||||||||| |||||||||| ||||||  |   |||| ||||||||||| ||||||||||||||||||\n",
            "library:\t TTTTCTTCTGAACCCCAAGTT-CAACATTCTTTATACCA--T---ACCATGCTGCCTTCTAGTCCCCTTCATTCACTCAA 4000\n",
            "\n",
            "query:\t\t CTATCCAACATTTGAAAAGTACTTCCTATGTGCCAGGTGCCTAAGACAGAATATAAAAACTTACCTCT-TC-T-CCGTCT 4080\n",
            "\t\t ||||||||||||||||||||||||||||||||||||||||| ||||||||||||||||||||| |||| |  |  | || \n",
            "library:\t CTATCCAACATTTGAAAAGTACTTCCTATGTGCCAGGTGCCAAAGACAGAATATAAAAACTTATCTCTATAATATCTTCC 4080\n",
            "\n",
            "query:\t\t ATATC-ACTTCTCCCCTTCTATCCCAAAATCAATACCCAGGCTAGTACCATTTCCAATTAGATTTTTATTCTGTACTTTT 4160\n",
            "\t\t  |||| | |||||||||||||||||||||||||||||||||||||||||||||||||||||||||||||||| |||||||\n",
            "library:\t GTATCTA-TTCTCCCCTTCTATCCCAAAATCAATACCCAGGCTAGTACCATTTCCAATTAGATTTTTATTCTTTACTTTT 4160\n",
            "\n",
            "query:\t\t TACCTGAAGAAACTATTTGCACTATCATTCTCCCATACTGCAAATAATATAATA--GTCACTGCACAGCTAAAGGGTTGT 4240\n",
            "\t\t ||||||||||||||||||||||||||||||||||||||||||||||||||||||  |||||||||||||||||   | ||\n",
            "library:\t TACCTGAAGAAACTATTTGCACTATCATTCTCCCATACTGCAAATAATATAATAAAGTCACTGCACAGCTAAA---T-GT 4240\n",
            "\n",
            "query:\t\t CCTTTGTTTTTGATTACGACACTGTTGTTACATTCAT-C-TAGGATAGGTAAGTCCACACAATACTGCTCCCCACACAAA 4320\n",
            "\t\t |||||||||||||   | ||||||||||||||||||| | ||||| |||||||||||||||||||||||||||||| |||\n",
            "library:\t CCTTTGTTTTTGA---CTACACTGTTGTTACATTCATTCCTAGGAGAGGTAAGTCCACACAATACTGCTCCCCACAAAAA 4320\n",
            "\n",
            "query:\t\t TGAGACACACAGTGGGGCTTCAACCATGGTTTCTGGTCAAATCAAGATACATTTTCTAAATAAGCAACGGACCAATCTTT 4400\n",
            "\t\t ||||||||||||||||||||||| ||||||||||    |||||||||||| ||||| ||| ||||||||| |||||||| \n",
            "library:\t TGAGACACACAGTGGGGCTTCAAGCATGGTTTCT----AAATCAAGATACGTTTTCCAAACAAGCAACGGCCCAATCTTC 4400\n",
            "\n",
            "query:\t\t CAGATGATCTTTTAAATAGTGAATTTTTCATTTATTATGGAAGGGAATAA--GCTATTTTTTAAGCAACTCTGACAAGAA 4480\n",
            "\t\t  |||||||||||||| ||||||||||||||||||||||||||||||||||  ||||||||||||||||||||||||||||\n",
            "library:\t AAGATGATCTTTTAA-TAGTGAATTTTTCATTTATTATGGAAGGGAATAAAAGCTATTTTTTAAGCAACTCTGACAAGAA 4480\n",
            "\n",
            "query:\t\t TCTTGCATTTCTTGATACTGTAACCTTGGGAAATAAATTATAAAATGTATTATTAGTTTTTGGATTCAGGACATGTTTAA 4560\n",
            "\t\t || | |||||||||||||||||| ||||||||||||||||||||||||||||||||||||||||  ||     |||||||\n",
            "library:\t TCCTACATTTCTTGATACTGTAAACTTGGGAAATAAATTATAAAATGTATTATTAGTTTTTGGA--CA-----TGTTTAA 4560\n",
            "\n",
            "query:\t\t ACAGAAAGTGGCCACACACCCACCCAGAGCCTTTCACCAGCCCTTGTCACTGTCTCAGAGGCA------GCTGACTTGAG 4640\n",
            "\t\t |||||||||||||| |||||||||| |||||||||||||||||||||||||||||||||||||      |||||||||||\n",
            "library:\t ACAGAAAGTGGCCAGACACCCACCCTGAGCCTTTCACCAGCCCTTGTCACTGTCTCAGAGGCAGGGCTCGCTGACTTGAG 4640\n",
            "\n",
            "query:\t\t GTGGCAAACTGCAGGGGCTGAATCACCTAAGTAAAGCCGTTTAATCCTAATCGCACGGAAGCTCCAAGGGAGAATTCTGC 4720\n",
            "\t\t |||||||||||||||||||||||||||||||   |||||||||||||| |||  ||||||||||||||||||||||||||\n",
            "library:\t GTGGCAAACTGCAGGGGCTGAATCACCTAAG---AGCCGTTTAATCCTCATCCGACGGAAGCTCCAAGGGAGAATTCTGC 4720\n",
            "\n",
            "query:\t\t AATCCTCATGCCTCTTCATTCACAGAAAGGCTCTTTCCTATGAGATGTAACAGCGACCTGAATAATCGCTCTGTATAATG 4800\n",
            "\t\t || ||||||||||||||||||||||||||||||||||||||||||||||||||||||||||||||||||||||| |||||\n",
            "library:\t AAGCCTCATGCCTCTTCATTCACAGAAAGGCTCTTTCCTATGAGATGTAACAGCGACCTGAATAATCGCTCTGTTTAATG 4800\n",
            "\n",
            "query:\t\t AGCATCTCAGAGCAGCCTCTGAGCGCCGAAGCATTTGGGTCAGAGTATTATTAGTGCCCTCATGACGATAGGTTCTGTTC 4880\n",
            "\t\t |||||||| |||||||||| ||||||||||||||||||||||||||||||||||||| || |||||||| ||||||||||\n",
            "library:\t AGCATCTCGGAGCAGCCTCAGAGCGCCGAAGCATTTGGGTCAGAGTATTATTAGTGCGCTGATGACGATCGGTTCTGTTC 4880\n",
            "\n",
            "query:\t\t GAGCCTTACAGATCACACACTTTGCCACTACAGTGCCGAGGATGGCTTTTATCCAGCACTGCACACACTAGTGCTCGTGC 4960\n",
            "\t\t ||||||||||||||||||||||||||||||| |||||  ||||||||||||||||||||||||||||||  ||||| |||\n",
            "library:\t GAGCCTTACAGATCACACACTTTGCCACTACTGTGCCCGGGATGGCTTTTATCCAGCACTGCACACACTTTTGCTCATGC 4960\n",
            "\n",
            "query:\t\t TTAC--T---TACTTATTCATGTTTGTCCACCTCCCCTAAACCCTGGGAGATTCATTCTTGGGACCCCAGGTCCAGGCAC 5040\n",
            "\t\t ||||  |   |||||||||||||||||||||||||||||||  ||| ||||||||||||||   ||||||| || |||||\n",
            "library:\t TTACAGTATTTACTTATTCATGTTTGTCCACCTCCCCTAAA--CTGTGAGATTCATTCTTGTATCCCCAGGGCCTGGCAC 5040\n",
            "\n",
            "query:\t\t ACAGTAGGAACCGTAAATGTGGGCTGATGGAATGAAAGCAATGTCTGACAAACATGAGAGCTCGGAGAAAACTAA 5115\n",
            "\t\t || |||||||| |||||||||||||||||||||||| |||||||||||||||| |||||||| ||||||||||||\n",
            "library:\t ACCGTAGGAACTGTAAATGTGGGCTGATGGAATGAATGCAATGTCTGACAAACGTGAGAGCTTGGAGAAAACTAA 5115\n",
            "\n",
            "\n"
          ]
        }
      ]
    },
    {
      "cell_type": "code",
      "source": [
        "# test, with the runtimes of each phase of the algorithm.\n",
        "\n",
        "seed = 2370089\n",
        "rng = np.random.RandomState(seed=seed)\n",
        "query, true_inds = get_rand_subseq(library_seq, conf, 20, 1000, indel_coeff=0.15, rng=rng, verbose=True)\n",
        "print('Sequence generated from library location: ', true_inds, '\\t\\tQuery length: ', len(query))\n",
        "print(query)\n",
        "print(library_seq[true_inds[0]:true_inds[1]])\n",
        "print()\n",
        "likely_candidates = ProbaBLAST(query, library_seq, lib, conf, verbose=True)\n",
        "\n",
        "for alignment in likely_candidates:\n",
        "    score = alignment[0]\n",
        "    query_inds = alignment[1]\n",
        "    algn_inds = alignment[2]\n",
        "    header = (score, query_inds, algn_inds)\n",
        "    print_alignment(alignment[3][0], alignment[3][1], header=header)\n",
        "    print('Coverage score:', coverage(true_inds, algn_inds))"
      ],
      "metadata": {
        "colab": {
          "base_uri": "https://localhost:8080/"
        },
        "id": "0op2lzJB2Cwm",
        "outputId": "fc3bb486-7aef-4ccc-e88d-df6764b51464"
      },
      "execution_count": null,
      "outputs": [
        {
          "output_type": "stream",
          "name": "stdout",
          "text": [
            "(163966, 164790)\n",
            "Sequence generated from library location:  (163966, 164790) \t\tQuery length:  820\n",
            "CGACATATTTTTACCTGAATTATTTTCCAAAAATTCAAGTGATCTAAGGAGGCTCAAGTGTCAGTGGGGGGAGCTGTGTTTGGAATGCAGACAGGCAAGCTCTGAGCGAGGCTGCTGCTCCCACGCCACCCTATGGTGCAGTGGGCCCCCCAGGCTCACATAGGGTTACACTGTGCCACTGTGTGCTGCGAGCCACGACAGACACAGCAGGACCAAAAACACGATCATAATCAAAGAACCAGCCCTTACTGAAAGAAGTGTGCAGCCCAGGATTGACGGACCCTGCCTCCTGGGACCCACTCTGGCGGGCCCTCTGGTCTGCTCAAAGCACGGCCGGCATCAAAGGCCTATTTTTCTCGCAGCCTAGCCCATCAGCGGTGAGGCACCAGGCCTAAAAGGCCTCCTCTGAAAAACCCTTTCCATCCCGCCTCTTAATTTTCCCCGGCAACCCTTCAGGGGCTCCCCGTTGCCTGCCAGACAGCCGCACTCAAGATTAACCCCTTAACCCCCCAGACTGAGATCTATTAAAGCATCTAAAAGACGCTTGAGATTTTAAGAAATTAGAGACCTTGCCCCCCGCCCCCCAGTGACTCAACGGTGCGTATCTACAGAAGAGCTGCAGACTTTCGCCTGGAAACCTCTGGCTGTTCTCTGACGGAAGGAAACAGGACCCCGAACCTCCCTGGTACCAGCCCAGCTGTCCCCCCCTCACAATGTCCCCGCTCCGCCTCTGTCCTTTTTTCAAGCTGGAGGCAGCCTCCAGACTTGAGGCTTCACCCAGGTTTCTTGTCTTCCAGCCCCAGAAGGTGCGTCCGGGCAC\n",
            "CGACATATTTTTACCTGAATTATTTTCCAAAAATTCAAGTGAGGAGGCTCAGAAGTGTCAGTGAGGGGGAAGGGCTGTGTTTGGAAGGAAAAAGAAGGGCTCTGAGCGAGGCTGCTGCAGCCCCCACGCCCCTCACCCTAGGGTGCTGGGGGACCCTCACAGGGTTACACTGTCGGCCACTGTGTGCAGCGAGCCAGGACAGACACAGCAGACGACAAACACAATCATCAGAGAACCAGCCCTTACTGTGGAAAAGAGGAAGTGTGCCCCAGGGTTGGGGCGGCACCCCTGCCTCCTGGGACCCACTCTGGCCGGCCCTCTGGTCTGCTCAGGGCACGGCCGGCATCAAAGGCCTTTTTTTCGGCCTCCCATCAGCTGTGAGGCACCTGGCCTAAGGCCTCCTCTAAAATACCGTTTCCATCCTGCCTCTTCCCTGCTGAGAACCCTTCAGTGGCTCCCCATTGCCTACCGGAATCCACTGGGCGGCACTCAAGACCCTCCCCACAGACTGAGATATTAAGGCATCAAAAAAAGCTTGAGATTTTAAGAAATTAGAGACCTGGGCCTTGCCCCCCGCCCCCCAGTGACTCATATTTACATAAGAGCTGCAGACTTTCACCTGGAAACCTCTGGACTCTGTTCCTTTCTGAAGAAACGGAAGGAAACAGGACCCCGAACCTCCCTGGTACCAGCCCAGCTGTCCCCCCCCCCCCCTCTGTCCCCGCCCCTCCCCTGTCCTTTTTTCAAGCTGGAGGCAGCCTCCAGGGACTTGAGGCTTCACCCAGGCTACTTGTCTTCCAGCCCCAGAGGGCGCGTCCGGGCCC\n",
            "\n",
            "Searching database completed in  0.0008921623229980469 seconds\n",
            "Ungapped extension completed in  1.4411957263946533 seconds\n",
            "Needleman Wunsch extensions completed in  1.8232367038726807 seconds\n",
            "Alingment of query segment (0, 818) and library segment (163966, 164788) with score = 358.760\n",
            "query:\t\t CGACATATTTTTACCTGAATTATTTTCCAAAAATTCAAGTGATCTAAGGAGGCTCA-A-GTGTCAGTG-GGGGG-A-G-C 80\n",
            "\t\t ||||||||||||||||||||||||||||||||||||||||||     ||||||||| | ||||||||| ||||| | | |\n",
            "library:\t CGACATATTTTTACCTGAATTATTTTCCAAAAATTCAAGTGA-----GGAGGCTCAGAAGTGTCAGTGAGGGGGAAGGGC 80\n",
            "\n",
            "query:\t\t TGTGTTTGGAATGCAGACAGGCAAG--CTCTGAGCGAGGCTGCTGCT--CCC-ACG-CC---ACCCTATGGTGCAGTGGG 160\n",
            "\t\t ||||||||||| | | | ||  |||  |||||||||||||||||||   ||| ||| ||   |||||| ||||| | |||\n",
            "library:\t TGTGTTTGGAAGGAAAA-AG--AAGGGCTCTGAGCGAGGCTGCTGCAGCCCCCACGCCCCTCACCCTAGGGTGCTGGGGG 160\n",
            "\n",
            "query:\t\t CCCCCCAGGCTCACATAGGGTTACACTGT--GCCACTGTGTGCTGCGAGCCACGACAGACACAGCAGGACCAAAAACACG 240\n",
            "\t\t  |||      |||||  ||||||||||||  |||||||||||| |||||||| |||||||||||||| || | |||||| \n",
            "library:\t ACCC------TCACA--GGGTTACACTGTCGGCCACTGTGTGCAGCGAGCCAGGACAGACACAGCAG-ACGACAAACACA 240\n",
            "\n",
            "query:\t\t ATCATAATCAAAGAACCAGCCCTTAC--T-GAAA---G-AAGTGTGCAGCCCAGGATTG-A-CGG-A-CCCTGCCTCCTG 320\n",
            "\t\t |||||   || |||||||||||||||  | ||||   | ||||||||  |||||| |||   ||| | ||||||||||||\n",
            "library:\t ATCAT---CAGAGAACCAGCCCTTACTGTGGAAAAGAGGAAGTGTGC--CCCAGGGTTGGGGCGGCACCCCTGCCTCCTG 320\n",
            "\n",
            "query:\t\t GGACCCACTCTGGCGGGCCCTCTGGTCTGCTCAAAGCACGGCCGGCATCAAAGGCCTATTTTTCTCGCAGCCTAGCCCAT 400\n",
            "\t\t |||||||||||||| ||||||||||||||||||  |||||||||||||||||||||| ||||||  |  ||||  |||||\n",
            "library:\t GGACCCACTCTGGCCGGCCCTCTGGTCTGCTCAGGGCACGGCCGGCATCAAAGGCCTTTTTTTC--G--GCCT--CCCAT 400\n",
            "\n",
            "query:\t\t CAGCGGTGAGGCACCAGGCCTAAAAGGCCTCCTCTGAAAAACCCTTTCCATCCCGCCTCTTAATTTTCCCCG--G-CAAC 480\n",
            "\t\t |||| |||||||||| |||||  |||||||||||| ||| ||| ||||||||| |||||      ||||| |  |  |||\n",
            "library:\t CAGCTGTGAGGCACCTGGCCT--AAGGCCTCCTCTAAAATACCGTTTCCATCCTGCCTC------TTCCCTGCTGAGAAC 480\n",
            "\n",
            "query:\t\t CCTTCAGGGGCTCCCCGTTGCCTGCCAGA---CA----GCCGCACTCAAGATTAACCCCTTAACCCCCCAGACTGAGATC 560\n",
            "\t\t ||||||| |||||||| |||||| || ||   ||    || |||||||||    | ||| |  |||| ||||||||||  \n",
            "library:\t CCTTCAGTGGCTCCCCATTGCCTACCGGAATCCACTGGGCGGCACTCAAG----A-CCC-T--CCCCACAGACTGAGA-- 560\n",
            "\n",
            "query:\t\t TATTAAAGCATCTAAAAGACGCTTGAGATTTTAAGAAATTAGAGACCT-----T-GCCCCCCGCCCCCCAGTGACTCAAC 640\n",
            "\t\t |||||| ||||| |||| | ||||||||||||||||||||||||||||     | |||||||||||||||||||||| | \n",
            "library:\t TATTAAGGCATCAAAAAAA-GCTTGAGATTTTAAGAAATTAGAGACCTGGGCCTTGCCCCCCGCCCCCCAGTGACTC-A- 640\n",
            "\n",
            "query:\t\t GGTGCGTATCTACAGAAGAGCTGCAGACTTTCGCCTGGAAACCTCTGG---CTGTT-C--TCT---G--ACGGAAGGAAA 720\n",
            "\t\t       ||| |||| ||||||||||||||||| |||||||||||||||   ||||| |  |||   |  |||||||||||\n",
            "library:\t ------TATTTACATAAGAGCTGCAGACTTTCACCTGGAAACCTCTGGACTCTGTTCCTTTCTGAAGAAACGGAAGGAAA 720\n",
            "\n",
            "query:\t\t CAGGACCCCGAACCTCCCTGGTACCAGCCCAGCTGTCCCCCCCT-CACAA-TGTCCCCGCTCCGCCTCTGTCCTTTTTTC 800\n",
            "\t\t |||||||||||||||||||||||||||||||||||||||||||  | |   ||||||||| || || |||||||||||||\n",
            "library:\t CAGGACCCCGAACCTCCCTGGTACCAGCCCAGCTGTCCCCCCCCCCCCCTCTGTCCCCGCCCCTCCCCTGTCCTTTTTTC 800\n",
            "\n",
            "query:\t\t AAGCTGGAGGCAGCCTCCA--GACTTGAGGCTTCACCCAGGTTTCTTGTCTTCCAGCCCCAGAAGGTGCGTCCGGGC 877\n",
            "\t\t |||||||||||||||||||  |||||||||||||||||||| | ||||||||||||||||||| || ||||||||||\n",
            "library:\t AAGCTGGAGGCAGCCTCCAGGGACTTGAGGCTTCACCCAGGCTACTTGTCTTCCAGCCCCAGAGGGCGCGTCCGGGC 877\n",
            "\n",
            "\n",
            "Coverage score: 0.9975728155339806\n"
          ]
        }
      ]
    },
    {
      "cell_type": "code",
      "source": [
        "# Get a baseline accuracy using the default random sequence parameters, based on 100 random sequences\n",
        "seed = 123456789\n",
        "rng = np.random.RandomState(seed=seed)\n",
        "accuracies = []\n",
        "\n",
        "for i in range(100):\n",
        "    query, true_inds = get_rand_subseq(library_seq, conf, 50, 500, indel_coeff=0.04, rng=rng, verbose=False)\n",
        "    likely_candidates = ProbaBLAST(query, library_seq, lib, conf, verbose=False)\n",
        "    best_cov = 0.0\n",
        "    for alignment in likely_candidates:\n",
        "        algn_score = alignment[0]\n",
        "        algn_inds = alignment[2]\n",
        "        cov = coverage(true_inds, algn_inds)\n",
        "        if cov > best_cov:\n",
        "            best_cov = cov\n",
        "    accuracies.append(best_cov)\n",
        "    if i % 10 == 0 and i > 0:\n",
        "        print('...done', i)\n",
        "\n",
        "print('average coverage =', np.average(accuracies), 'with standard deviation =', np.std(accuracies))\n",
        "plt.hist(accuracies)\n",
        "plt.ylabel('Count')\n",
        "plt.xlabel('Alignment Coverage')\n",
        "plt.title('Baseline ProbaBLAST Performance')\n",
        "plt.show()"
      ],
      "metadata": {
        "colab": {
          "base_uri": "https://localhost:8080/",
          "height": 469
        },
        "id": "IlwfyaBsFMZn",
        "outputId": "02415f06-f08d-4b28-bafc-a610d11dbd47"
      },
      "execution_count": null,
      "outputs": [
        {
          "output_type": "stream",
          "name": "stdout",
          "text": [
            "...done 10\n",
            "...done 20\n",
            "...done 30\n",
            "...done 40\n",
            "...done 50\n",
            "...done 60\n",
            "...done 70\n",
            "...done 80\n",
            "...done 90\n",
            "average coverage = 0.9563100393352528 with standard deviation = 0.17228058998051554\n"
          ]
        },
        {
          "output_type": "display_data",
          "data": {
            "image/png": "[encoded data removed]",
            "text/plain": [
              "<Figure size 432x288 with 1 Axes>"
            ]
          },
          "metadata": {
            "needs_background": "light"
          }
        }
      ]
    },
    {
      "cell_type": "code",
      "source": [
        "print(sorted(accuracies))\n",
        "print(np.count_nonzero(np.array(accuracies) == 1.0))"
      ],
      "metadata": {
        "colab": {
          "base_uri": "https://localhost:8080/"
        },
        "id": "5XZbcb_uQbKx",
        "outputId": "62dad7d6-927a-4dd1-fd94-8a6d2bc89f66"
      },
      "execution_count": null,
      "outputs": [
        {
          "output_type": "stream",
          "name": "stdout",
          "text": [
            "[0.0, 0.0, 0.0, 0.7215189873417721, 0.8235294117647058, 0.8636363636363636, 0.9117647058823529, 0.928395061728395, 0.9411764705882353, 0.9441860465116279, 0.9487179487179487, 0.9637681159420289, 0.9658536585365853, 0.9663157894736842, 0.9705882352941176, 0.9719626168224299, 0.9727272727272728, 0.9759615384615384, 0.9809264305177112, 0.981042654028436, 0.9822485207100592, 0.9823232323232324, 0.9834254143646409, 0.9851851851851852, 0.9864864864864865, 0.9872881355932204, 0.9886363636363636, 0.9895833333333334, 0.9912536443148688, 0.9914529914529915, 0.9919354838709677, 0.9924242424242424, 0.993485342019544, 0.9937888198757764, 0.9938271604938271, 0.9947643979057592, 0.9954128440366973, 0.9954337899543378, 0.9956896551724138, 0.9964664310954063, 0.9970238095238095, 0.9971590909090909, 0.9977876106194691, 0.9978586723768736, 0.9979919678714859, 1.0, 1.0, 1.0, 1.0, 1.0, 1.0, 1.0, 1.0, 1.0, 1.0, 1.0, 1.0, 1.0, 1.0, 1.0, 1.0, 1.0, 1.0, 1.0, 1.0, 1.0, 1.0, 1.0, 1.0, 1.0, 1.0, 1.0, 1.0, 1.0, 1.0, 1.0, 1.0, 1.0, 1.0, 1.0, 1.0, 1.0, 1.0, 1.0, 1.0, 1.0, 1.0, 1.0, 1.0, 1.0, 1.0, 1.0, 1.0, 1.0, 1.0, 1.0, 1.0, 1.0, 1.0, 1.0]\n",
            "55\n"
          ]
        }
      ]
    },
    {
      "cell_type": "code",
      "source": [
        "# Test increasing mutation frequencies (no indels).\n",
        "# levels = [0, 0.02, 0.05, 0.1, 0.15, 0.2, 0.3, 0.5]\n",
        "levels = [0, 0.02, 0.05, 0.1, 0.15, 0.2, 0.3, 0.5]\n",
        "seed = 123456789\n",
        "accs_per_level = []\n",
        "std_devs_per_level = []\n",
        "\n",
        "for entry in levels:\n",
        "    rng = np.random.RandomState(seed=seed)\n",
        "    accuracies = []\n",
        "    for i in range(100):\n",
        "        query, true_inds = get_rand_subseq(library_seq, conf, 50, 500, indel_coeff=0.0, added_mut_chance=entry, rng=rng, verbose=False)\n",
        "        likely_candidates = ProbaBLAST(query, library_seq, lib, conf, verbose=False)\n",
        "        best_cov = 0.0\n",
        "        for alignment in likely_candidates:\n",
        "            algn_score = alignment[0]\n",
        "            algn_inds = alignment[2]\n",
        "            cov = coverage(true_inds, algn_inds)\n",
        "            if cov > best_cov:\n",
        "                best_cov = cov\n",
        "        accuracies.append(best_cov)\n",
        "    accs_per_level.append(np.average(accuracies))\n",
        "    std_devs_per_level.append(np.std(accuracies))\n",
        "    print(sorted(accuracies))\n",
        "    print('done', entry)\n",
        "\n",
        "plt.errorbar(levels, accs_per_level, yerr=std_devs_per_level, capsize=3.0, fmt='-o')\n",
        "plt.ylabel('Average Coverage')\n",
        "plt.xlabel('Added Mutation Chance')\n",
        "plt.title('Performance with Increasing Mutation Chance')\n",
        "plt.show()"
      ],
      "metadata": {
        "colab": {
          "base_uri": "https://localhost:8080/",
          "height": 593
        },
        "id": "1fycpeZUWB8p",
        "outputId": "9cab1234-d500-4d40-ff0b-9bd7c579afd2"
      },
      "execution_count": null,
      "outputs": [
        {
          "output_type": "stream",
          "name": "stdout",
          "text": [
            "[0.0, 0.9639175257731959, 0.9726962457337884, 0.9732142857142857, 0.9819819819819819, 0.9856115107913669, 0.9864864864864865, 0.987012987012987, 0.9872611464968153, 0.9875, 0.9883720930232558, 0.9886363636363636, 0.9900497512437811, 0.9910179640718563, 0.9927007299270073, 0.9936170212765958, 0.9936507936507937, 0.9953488372093023, 0.9961240310077519, 0.9967213114754099, 0.9969230769230769, 0.9971014492753624, 0.9975, 0.9975308641975309, 0.9979338842975206, 1.0, 1.0, 1.0, 1.0, 1.0, 1.0, 1.0, 1.0, 1.0, 1.0, 1.0, 1.0, 1.0, 1.0, 1.0, 1.0, 1.0, 1.0, 1.0, 1.0, 1.0, 1.0, 1.0, 1.0, 1.0, 1.0, 1.0, 1.0, 1.0, 1.0, 1.0, 1.0, 1.0, 1.0, 1.0, 1.0, 1.0, 1.0, 1.0, 1.0, 1.0, 1.0, 1.0, 1.0, 1.0, 1.0, 1.0, 1.0, 1.0, 1.0, 1.0, 1.0, 1.0, 1.0, 1.0, 1.0, 1.0, 1.0, 1.0, 1.0, 1.0, 1.0, 1.0, 1.0, 1.0, 1.0, 1.0, 1.0, 1.0, 1.0, 1.0, 1.0, 1.0, 1.0, 1.0]\n",
            "done 0\n",
            "[0.0, 0.0, 0.8831168831168831, 0.9545454545454546, 0.9598853868194842, 0.9629629629629629, 0.9647577092511013, 0.9657534246575342, 0.9722222222222222, 0.978448275862069, 0.9825, 0.9844357976653697, 0.9851851851851852, 0.987012987012987, 0.9882352941176471, 0.9897435897435898, 0.9897959183673469, 0.9925742574257426, 0.9925742574257426, 0.9934065934065934, 0.9934640522875817, 0.99375, 0.9938271604938271, 0.994413407821229, 0.9945945945945946, 0.9947368421052631, 0.9949748743718593, 0.995049504950495, 0.9957081545064378, 0.995850622406639, 0.9961240310077519, 0.9961538461538462, 0.9963235294117647, 0.9965277777777778, 0.9969418960244648, 0.996969696969697, 0.9970845481049563, 0.9971264367816092, 0.9976415094339622, 0.9979423868312757, 0.9979959919839679, 1.0, 1.0, 1.0, 1.0, 1.0, 1.0, 1.0, 1.0, 1.0, 1.0, 1.0, 1.0, 1.0, 1.0, 1.0, 1.0, 1.0, 1.0, 1.0, 1.0, 1.0, 1.0, 1.0, 1.0, 1.0, 1.0, 1.0, 1.0, 1.0, 1.0, 1.0, 1.0, 1.0, 1.0, 1.0, 1.0, 1.0, 1.0, 1.0, 1.0, 1.0, 1.0, 1.0, 1.0, 1.0, 1.0, 1.0, 1.0, 1.0, 1.0, 1.0, 1.0, 1.0, 1.0, 1.0, 1.0, 1.0, 1.0, 1.0]\n",
            "done 0.02\n",
            "[0.0, 0.0, 0.0, 0.937888198757764, 0.9428571428571428, 0.9435897435897436, 0.9519230769230769, 0.9529411764705882, 0.963855421686747, 0.9651162790697675, 0.9690721649484536, 0.9770114942528736, 0.9777070063694268, 0.9821958456973294, 0.983739837398374, 0.9854368932038835, 0.9866071428571429, 0.9867549668874173, 0.9868421052631579, 0.9880239520958084, 0.9883720930232558, 0.9895833333333334, 0.9896907216494846, 0.99, 0.9901960784313726, 0.9910714285714286, 0.9929577464788732, 0.9936305732484076, 0.9939271255060729, 0.9939577039274925, 0.9942857142857143, 0.9943019943019943, 0.9948453608247423, 0.995260663507109, 0.9952830188679245, 0.9957627118644068, 0.9957805907172996, 0.9974025974025974, 0.9975550122249389, 0.9976190476190476, 0.9976798143851509, 0.9978165938864629, 0.9979716024340771, 1.0, 1.0, 1.0, 1.0, 1.0, 1.0, 1.0, 1.0, 1.0, 1.0, 1.0, 1.0, 1.0, 1.0, 1.0, 1.0, 1.0, 1.0, 1.0, 1.0, 1.0, 1.0, 1.0, 1.0, 1.0, 1.0, 1.0, 1.0, 1.0, 1.0, 1.0, 1.0, 1.0, 1.0, 1.0, 1.0, 1.0, 1.0, 1.0, 1.0, 1.0, 1.0, 1.0, 1.0, 1.0, 1.0, 1.0, 1.0, 1.0, 1.0, 1.0, 1.0, 1.0, 1.0, 1.0, 1.0, 1.0]\n",
            "done 0.05\n",
            "[0.0, 0.0, 0.0, 0.0, 0.0, 0.8669201520912547, 0.9045553145336226, 0.9069767441860465, 0.9285714285714286, 0.9383561643835616, 0.94375, 0.9496981891348089, 0.95, 0.952, 0.9598853868194842, 0.9611650485436893, 0.962457337883959, 0.9637681159420289, 0.9672131147540983, 0.9699248120300752, 0.9739583333333334, 0.9783783783783784, 0.9794238683127572, 0.9803921568627451, 0.9812206572769953, 0.9817351598173516, 0.9856733524355301, 0.9878048780487805, 0.9898477157360406, 0.9898734177215189, 0.991701244813278, 0.9917808219178083, 0.9921052631578947, 0.9924812030075187, 0.9941520467836257, 0.994475138121547, 0.9946091644204852, 0.9949367088607595, 0.9949748743718593, 0.9950372208436724, 0.9954648526077098, 0.9955357142857143, 0.9956709956709957, 0.9957894736842106, 0.9957894736842106, 0.9960629921259843, 0.9963369963369964, 0.9965986394557823, 0.9965986394557823, 0.9970588235294118, 0.9972602739726028, 0.9978354978354979, 0.9979253112033195, 0.9979716024340771, 1.0, 1.0, 1.0, 1.0, 1.0, 1.0, 1.0, 1.0, 1.0, 1.0, 1.0, 1.0, 1.0, 1.0, 1.0, 1.0, 1.0, 1.0, 1.0, 1.0, 1.0, 1.0, 1.0, 1.0, 1.0, 1.0, 1.0, 1.0, 1.0, 1.0, 1.0, 1.0, 1.0, 1.0, 1.0, 1.0, 1.0, 1.0, 1.0, 1.0, 1.0, 1.0, 1.0, 1.0, 1.0, 1.0]\n",
            "done 0.1\n",
            "[0.0, 0.6150442477876106, 0.6887417218543046, 0.7695473251028807, 0.8351063829787234, 0.8680555555555556, 0.8922155688622755, 0.9193548387096774, 0.92, 0.9204545454545454, 0.9230769230769231, 0.9256505576208178, 0.9347826086956522, 0.9416666666666667, 0.9450980392156862, 0.946236559139785, 0.9466357308584686, 0.9487179487179487, 0.949290060851927, 0.9522546419098143, 0.9526315789473684, 0.9554655870445344, 0.956, 0.9645669291338582, 0.9661016949152542, 0.9686520376175548, 0.9713467048710601, 0.9719101123595506, 0.9728682170542635, 0.9739413680781759, 0.9739696312364425, 0.9754601226993865, 0.9782082324455206, 0.9782608695652174, 0.9792387543252595, 0.9807280513918629, 0.9809782608695652, 0.9814814814814815, 0.9815573770491803, 0.9816272965879265, 0.9819004524886877, 0.9821428571428571, 0.984, 0.9857142857142858, 0.9864864864864865, 0.9868131868131869, 0.9873417721518988, 0.9878048780487805, 0.9886104783599089, 0.9895287958115183, 0.9909706546275395, 0.9912790697674418, 0.9915492957746479, 0.9915966386554622, 0.9920212765957447, 0.9935344827586207, 0.9936440677966102, 0.9945054945054945, 0.9945205479452055, 0.9946091644204852, 0.9948186528497409, 0.9948717948717949, 0.9951807228915662, 0.9952153110047847, 0.9952380952380953, 0.9954954954954955, 0.995850622406639, 0.996309963099631, 0.996551724137931, 0.9967320261437909, 0.9976905311778291, 0.9978354978354979, 1.0, 1.0, 1.0, 1.0, 1.0, 1.0, 1.0, 1.0, 1.0, 1.0, 1.0, 1.0, 1.0, 1.0, 1.0, 1.0, 1.0, 1.0, 1.0, 1.0, 1.0, 1.0, 1.0, 1.0, 1.0, 1.0, 1.0, 1.0]\n",
            "done 0.15\n",
            "[0.0, 0.0, 0.0, 0.0, 0.0, 0.0, 0.0, 0.0, 0.0, 0.43902439024390244, 0.44666666666666666, 0.463768115942029, 0.6112759643916914, 0.7057057057057057, 0.7529411764705882, 0.7751004016064257, 0.8029978586723768, 0.8054794520547945, 0.8076923076923077, 0.8153846153846154, 0.8157894736842105, 0.8526315789473684, 0.8533333333333334, 0.854320987654321, 0.8632478632478633, 0.8857868020304569, 0.8918918918918919, 0.8953488372093024, 0.896551724137931, 0.8995633187772926, 0.9039735099337748, 0.9073170731707317, 0.9087136929460581, 0.9101123595505618, 0.9178885630498533, 0.9194139194139194, 0.9224137931034483, 0.9367088607594937, 0.9375, 0.9400826446280992, 0.9408284023668639, 0.9408602150537635, 0.9482071713147411, 0.9487179487179487, 0.9536290322580645, 0.9544468546637744, 0.9572301425661914, 0.9595141700404858, 0.9601990049751243, 0.9606879606879607, 0.9626436781609196, 0.9635036496350365, 0.9647058823529412, 0.9651416122004357, 0.9670658682634731, 0.9684466019417476, 0.9698795180722891, 0.9702602230483272, 0.9710144927536232, 0.9727891156462585, 0.9759036144578314, 0.9759615384615384, 0.9760479041916168, 0.9763313609467456, 0.9772727272727273, 0.9782608695652174, 0.9787234042553191, 0.9787878787878788, 0.9820627802690582, 0.9836065573770492, 0.9845360824742269, 0.9855595667870036, 0.9865951742627346, 0.9867109634551495, 0.9867109634551495, 0.9867549668874173, 0.9873417721518988, 0.9881889763779528, 0.989010989010989, 0.9891304347826086, 0.9900497512437811, 0.9903846153846154, 0.9910514541387024, 0.9925650557620818, 0.9931506849315068, 0.9943342776203966, 0.9944444444444445, 0.9946236559139785, 0.9948051948051948, 0.9954128440366973, 0.9954337899543378, 0.9976635514018691, 1.0, 1.0, 1.0, 1.0, 1.0, 1.0, 1.0, 1.0]\n",
            "done 0.2\n",
            "[0.0, 0.0, 0.0, 0.0, 0.0, 0.0, 0.0, 0.0, 0.0, 0.0, 0.0, 0.0, 0.0, 0.0, 0.0, 0.0, 0.0, 0.0, 0.0, 0.0, 0.0, 0.0, 0.0, 0.0, 0.0, 0.0, 0.0, 0.0, 0.0, 0.0, 0.0, 0.0, 0.0, 0.0, 0.0, 0.0, 0.0, 0.0, 0.0, 0.0, 0.0, 0.0, 0.11637931034482758, 0.1506849315068493, 0.19852941176470587, 0.20078740157480315, 0.22877358490566038, 0.26495726495726496, 0.291005291005291, 0.2978723404255319, 0.32057416267942584, 0.33519553072625696, 0.3433734939759036, 0.37719298245614036, 0.4028776978417266, 0.4311111111111111, 0.46308724832214765, 0.4722222222222222, 0.504424778761062, 0.507537688442211, 0.5165562913907285, 0.5202312138728323, 0.52046783625731, 0.5288135593220339, 0.5675, 0.5812807881773399, 0.5884615384615385, 0.598, 0.6283924843423799, 0.648, 0.6513409961685823, 0.6752136752136753, 0.6775067750677507, 0.6810344827586207, 0.7120181405895691, 0.7406340057636888, 0.775, 0.7814207650273224, 0.7952218430034129, 0.7956521739130434, 0.8115942028985508, 0.8177083333333334, 0.8341013824884793, 0.8452380952380952, 0.8455598455598455, 0.8548387096774194, 0.8859416445623343, 0.8993963782696177, 0.9137931034482759, 0.9422382671480144, 0.9525222551928784, 0.9529914529914529, 0.961352657004831, 0.963882618510158, 0.9746300211416491, 0.9779411764705882, 0.9784688995215312, 0.9808917197452229, 0.9915254237288136, 0.9965635738831615]\n",
            "done 0.3\n",
            "[0.0, 0.0, 0.0, 0.0, 0.0, 0.0, 0.0, 0.0, 0.0, 0.0, 0.0, 0.0, 0.0, 0.0, 0.0, 0.0, 0.0, 0.0, 0.0, 0.0, 0.0, 0.0, 0.0, 0.0, 0.0, 0.0, 0.0, 0.0, 0.0, 0.0, 0.0, 0.0, 0.0, 0.0, 0.0, 0.0, 0.0, 0.0, 0.0, 0.0, 0.0, 0.0, 0.0, 0.0, 0.0, 0.0, 0.0, 0.0, 0.0, 0.0, 0.0, 0.0, 0.0, 0.0, 0.0, 0.0, 0.0, 0.0, 0.0, 0.0, 0.0, 0.0, 0.0, 0.0, 0.0, 0.0, 0.0, 0.0, 0.0, 0.0, 0.0, 0.0, 0.0, 0.0, 0.0, 0.0, 0.0, 0.0, 0.0, 0.0, 0.0, 0.0, 0.0, 0.0, 0.0, 0.0, 0.0, 0.0, 0.0, 0.0, 0.0, 0.0, 0.0, 0.0, 0.0, 0.0, 0.0, 0.0, 0.0, 0.0]\n",
            "done 0.5\n"
          ]
        },
        {
          "output_type": "display_data",
          "data": {
            "image/png": "[encoded data removed]",
            "text/plain": [
              "<Figure size 432x288 with 1 Axes>"
            ]
          },
          "metadata": {
            "needs_background": "light"
          }
        }
      ]
    },
    {
      "cell_type": "code",
      "source": [
        ""
      ],
      "metadata": {
        "id": "JaIfLmmsDSHz"
      },
      "execution_count": null,
      "outputs": []
    },
    {
      "cell_type": "code",
      "source": [
        "# Test increasing indel rates\n",
        "levels = [0, 0.02, 0.04, 0.1, 0.15, 0.2, 0.3, 0.5, 0.75, 1]\n",
        "seed = 123456789\n",
        "accs_per_level = []\n",
        "std_devs_per_level = []\n",
        "\n",
        "for entry in levels:\n",
        "    rng = np.random.RandomState(seed=seed)\n",
        "    accuracies = []\n",
        "    for i in range(100):\n",
        "        query, true_inds = get_rand_subseq(library_seq, conf, 50, 500, indel_coeff=entry, rng=rng, verbose=False)\n",
        "        likely_candidates = ProbaBLAST(query, library_seq, lib, conf, gap=-1, verbose=False)\n",
        "        best_cov = 0.0\n",
        "        for alignment in likely_candidates:\n",
        "            algn_score = alignment[0]\n",
        "            algn_inds = alignment[2]\n",
        "            cov = coverage(true_inds, algn_inds)\n",
        "            if cov > best_cov:\n",
        "                best_cov = cov\n",
        "        accuracies.append(best_cov)\n",
        "    accs_per_level.append(np.average(accuracies))\n",
        "    std_devs_per_level.append(np.std(accuracies))\n",
        "    print('done', entry)\n",
        "\n",
        "plt.errorbar(levels, accs_per_level, yerr=std_devs_per_level, capsize=3.0, fmt='-o')\n",
        "plt.ylabel('Average Coverage')\n",
        "plt.xlabel('Indel Rate')\n",
        "plt.title('Performance with Increasing Indel Rates')\n",
        "plt.show()"
      ],
      "metadata": {
        "colab": {
          "base_uri": "https://localhost:8080/",
          "height": 469
        },
        "id": "5ONdZrt_kiCZ",
        "outputId": "23d5c597-5aee-4dac-e33a-046079e5042c"
      },
      "execution_count": null,
      "outputs": [
        {
          "output_type": "stream",
          "name": "stdout",
          "text": [
            "done 0\n",
            "done 0.02\n",
            "done 0.04\n",
            "done 0.1\n",
            "done 0.15\n",
            "done 0.2\n",
            "done 0.3\n",
            "done 0.5\n",
            "done 0.75\n",
            "done 1\n"
          ]
        },
        {
          "output_type": "display_data",
          "data": {
            "image/png": "[encoded data removed]",
            "text/plain": [
              "<Figure size 432x288 with 1 Axes>"
            ]
          },
          "metadata": {
            "needs_background": "light"
          }
        }
      ]
    },
    {
      "cell_type": "code",
      "source": [
        "# Test increasing average indel lengths\n",
        "levels = [2, 3, 4, 5, 7, 10, 15, 20, 30]\n",
        "seed = 123456789\n",
        "accs_per_level = []\n",
        "std_devs_per_level = []\n",
        "\n",
        "for entry in levels:\n",
        "    rng = np.random.RandomState(seed=seed)\n",
        "    accuracies = []\n",
        "    for i in range(100):\n",
        "        query, true_inds = get_rand_subseq(library_seq, conf, 50, 500, avg_indel_len=entry, indel_coeff=0.04*entry, rng=rng, verbose=False)\n",
        "        likely_candidates = ProbaBLAST(query, library_seq, lib, conf, verbose=False)\n",
        "        best_cov = 0.0\n",
        "        for alignment in likely_candidates:\n",
        "            algn_score = alignment[0]\n",
        "            algn_inds = alignment[2]\n",
        "            cov = coverage(true_inds, algn_inds)\n",
        "            if cov > best_cov:\n",
        "                best_cov = cov\n",
        "        accuracies.append(best_cov)\n",
        "    accs_per_level.append(np.average(accuracies))\n",
        "    std_devs_per_level.append(np.std(accuracies))\n",
        "    print('done', entry)\n",
        "\n",
        "plt.errorbar(levels, accs_per_level, yerr=std_devs_per_level, capsize=3.0, fmt='-o')\n",
        "plt.ylabel('Average Coverage')\n",
        "plt.xlabel('Average Indel Length')\n",
        "plt.title('Performance with Increasing Indel Length')\n",
        "plt.show()"
      ],
      "metadata": {
        "colab": {
          "base_uri": "https://localhost:8080/",
          "height": 451
        },
        "id": "vM4hWtu5rObR",
        "outputId": "8bc1715a-d9e2-443f-d340-18696bc399ed"
      },
      "execution_count": null,
      "outputs": [
        {
          "output_type": "stream",
          "name": "stdout",
          "text": [
            "done 2\n",
            "done 3\n",
            "done 4\n",
            "done 5\n",
            "done 7\n",
            "done 10\n",
            "done 15\n",
            "done 20\n",
            "done 30\n"
          ]
        },
        {
          "output_type": "display_data",
          "data": {
            "image/png": "[encoded data removed]",
            "text/plain": [
              "<Figure size 432x288 with 1 Axes>"
            ]
          },
          "metadata": {
            "needs_background": "light"
          }
        }
      ]
    },
    {
      "cell_type": "code",
      "source": [
        "x = np.linspace(0.25,1, 100)\n",
        "base_func = (4/3) * x - (1/3)\n",
        "square = base_func ** 2\n",
        "root = np.sqrt(base_func)\n",
        "log4 = 1 + np.log(x)/np.log(4)\n",
        "plt.plot(x, base_func, label = 'linear')\n",
        "plt.plot(x, square, label = 'squared')\n",
        "plt.plot(x, root, label = 'square root')\n",
        "plt.plot(x, log4, label = '1 - log4')\n",
        "plt.xlabel('Confidence')\n",
        "plt.ylabel('Coefficient')\n",
        "plt.legend()\n",
        "plt.show"
      ],
      "metadata": {
        "colab": {
          "base_uri": "https://localhost:8080/",
          "height": 296
        },
        "id": "JQ6W35BtOz3j",
        "outputId": "ba12ec8d-4e99-4daf-f241-943d71da4df4"
      },
      "execution_count": null,
      "outputs": [
        {
          "output_type": "execute_result",
          "data": {
            "text/plain": [
              "<function matplotlib.pyplot.show>"
            ]
          },
          "metadata": {},
          "execution_count": 64
        },
        {
          "output_type": "display_data",
          "data": {
            "image/png": "[encoded data removed]",
            "text/plain": [
              "<Figure size 432x288 with 1 Axes>"
            ]
          },
          "metadata": {
            "needs_background": "light"
          }
        }
      ]
    }
  ]
}